{
 "cells": [
  {
   "cell_type": "code",
   "execution_count": 87,
   "metadata": {},
   "outputs": [],
   "source": [
    "import pandas as pd\n",
    "import numpy as np\n",
    "import matplotlib.pyplot as plt\n",
    "import seaborn as sns\n",
    "from sklearn.model_selection import train_test_split\n",
    "import lightgbm as lgb\n",
    "from sklearn.preprocessing import StandardScaler\n",
    "from sklearn.metrics import roc_auc_score\n",
    "from sklearn import metrics\n",
    "from sklearn.ensemble import RandomForestClassifier\n",
    "from sklearn.linear_model import LogisticRegression\n",
    "from sklearn.feature_selection import SelectFromModel\n",
    "from lightgbm import LGBMClassifier\n",
    "import operator\n",
    "%matplotlib inline"
   ]
  },
  {
   "cell_type": "code",
   "execution_count": 31,
   "metadata": {},
   "outputs": [],
   "source": [
    "def heat_conf(conf_matrix):\n",
    "    fig = plt.figure(figsize=(8,8))\n",
    "    # plotting the heatmap\n",
    "    class_names=[0,1] # name  of classes\n",
    "    fig, ax = plt.subplots()\n",
    "    tick_marks = np.arange(len(class_names))\n",
    "    plt.xticks(tick_marks, class_names)\n",
    "    plt.yticks(tick_marks, class_names)\n",
    "    # create heatmap\n",
    "    sns.heatmap(pd.DataFrame(conf_matrix), annot=True, cmap=\"YlGnBu\" ,fmt='g')\n",
    "    ax.xaxis.set_label_position(\"top\")\n",
    "    ax.set_ylim(len(conf_matrix)+1, -1)\n",
    "    plt.tight_layout()\n",
    "    plt.title('Confusion matrix', y=1.1)\n",
    "    plt.ylabel('Actual label')\n",
    "    plt.xlabel('Predicted label')"
   ]
  },
  {
   "cell_type": "code",
   "execution_count": 5,
   "metadata": {},
   "outputs": [],
   "source": [
    "train_df = pd.read_csv(r\"C:\\Users\\Notebook HP\\Desktop\\fds project\\version41.csv\")"
   ]
  },
  {
   "cell_type": "code",
   "execution_count": 6,
   "metadata": {},
   "outputs": [
    {
     "data": {
      "text/html": [
       "<div>\n",
       "<style scoped>\n",
       "    .dataframe tbody tr th:only-of-type {\n",
       "        vertical-align: middle;\n",
       "    }\n",
       "\n",
       "    .dataframe tbody tr th {\n",
       "        vertical-align: top;\n",
       "    }\n",
       "\n",
       "    .dataframe thead th {\n",
       "        text-align: right;\n",
       "    }\n",
       "</style>\n",
       "<table border=\"1\" class=\"dataframe\">\n",
       "  <thead>\n",
       "    <tr style=\"text-align: right;\">\n",
       "      <th></th>\n",
       "      <th>SK_ID_CURR</th>\n",
       "      <th>CNT_CHILDREN</th>\n",
       "      <th>AMT_INCOME_TOTAL</th>\n",
       "      <th>AMT_CREDIT</th>\n",
       "      <th>AMT_ANNUITY</th>\n",
       "      <th>AMT_GOODS_PRICE</th>\n",
       "      <th>REGION_POPULATION_RELATIVE</th>\n",
       "      <th>DAYS_BIRTH</th>\n",
       "      <th>DAYS_EMPLOYED</th>\n",
       "      <th>DAYS_REGISTRATION</th>\n",
       "      <th>...</th>\n",
       "      <th>app_PRODUCT_COMBINATION_Cash X-Sell: middle</th>\n",
       "      <th>app_PRODUCT_COMBINATION_POS household with interest</th>\n",
       "      <th>app_PRODUCT_COMBINATION_POS household without interest</th>\n",
       "      <th>app_PRODUCT_COMBINATION_POS industry with interest</th>\n",
       "      <th>app_PRODUCT_COMBINATION_POS industry without interest</th>\n",
       "      <th>app_PRODUCT_COMBINATION_POS mobile with interest</th>\n",
       "      <th>app_PRODUCT_COMBINATION_POS mobile without interest</th>\n",
       "      <th>app_PRODUCT_COMBINATION_POS other with interest</th>\n",
       "      <th>app_PRODUCT_COMBINATION_POS others without interest</th>\n",
       "      <th>app_pre_app_count</th>\n",
       "    </tr>\n",
       "  </thead>\n",
       "  <tbody>\n",
       "    <tr>\n",
       "      <td>0</td>\n",
       "      <td>100002</td>\n",
       "      <td>0</td>\n",
       "      <td>202500.0</td>\n",
       "      <td>406597.5</td>\n",
       "      <td>24700.5</td>\n",
       "      <td>351000.0</td>\n",
       "      <td>0.018801</td>\n",
       "      <td>-9461</td>\n",
       "      <td>-637</td>\n",
       "      <td>-3648.0</td>\n",
       "      <td>...</td>\n",
       "      <td>0.00</td>\n",
       "      <td>0.000000</td>\n",
       "      <td>0.0</td>\n",
       "      <td>0.000000</td>\n",
       "      <td>0.0</td>\n",
       "      <td>0.000000</td>\n",
       "      <td>0.0</td>\n",
       "      <td>1.0</td>\n",
       "      <td>0.0</td>\n",
       "      <td>1.0</td>\n",
       "    </tr>\n",
       "    <tr>\n",
       "      <td>1</td>\n",
       "      <td>100003</td>\n",
       "      <td>0</td>\n",
       "      <td>270000.0</td>\n",
       "      <td>1293502.5</td>\n",
       "      <td>35698.5</td>\n",
       "      <td>1129500.0</td>\n",
       "      <td>0.003541</td>\n",
       "      <td>-16765</td>\n",
       "      <td>-1188</td>\n",
       "      <td>-1186.0</td>\n",
       "      <td>...</td>\n",
       "      <td>0.00</td>\n",
       "      <td>0.333333</td>\n",
       "      <td>0.0</td>\n",
       "      <td>0.333333</td>\n",
       "      <td>0.0</td>\n",
       "      <td>0.000000</td>\n",
       "      <td>0.0</td>\n",
       "      <td>0.0</td>\n",
       "      <td>0.0</td>\n",
       "      <td>3.0</td>\n",
       "    </tr>\n",
       "    <tr>\n",
       "      <td>2</td>\n",
       "      <td>100004</td>\n",
       "      <td>0</td>\n",
       "      <td>67500.0</td>\n",
       "      <td>135000.0</td>\n",
       "      <td>6750.0</td>\n",
       "      <td>135000.0</td>\n",
       "      <td>0.010032</td>\n",
       "      <td>-19046</td>\n",
       "      <td>-225</td>\n",
       "      <td>-4260.0</td>\n",
       "      <td>...</td>\n",
       "      <td>0.00</td>\n",
       "      <td>0.000000</td>\n",
       "      <td>0.0</td>\n",
       "      <td>0.000000</td>\n",
       "      <td>0.0</td>\n",
       "      <td>0.000000</td>\n",
       "      <td>1.0</td>\n",
       "      <td>0.0</td>\n",
       "      <td>0.0</td>\n",
       "      <td>1.0</td>\n",
       "    </tr>\n",
       "    <tr>\n",
       "      <td>3</td>\n",
       "      <td>100006</td>\n",
       "      <td>0</td>\n",
       "      <td>135000.0</td>\n",
       "      <td>312682.5</td>\n",
       "      <td>29686.5</td>\n",
       "      <td>297000.0</td>\n",
       "      <td>0.008019</td>\n",
       "      <td>-19005</td>\n",
       "      <td>-3039</td>\n",
       "      <td>-9833.0</td>\n",
       "      <td>...</td>\n",
       "      <td>0.00</td>\n",
       "      <td>0.111111</td>\n",
       "      <td>0.0</td>\n",
       "      <td>0.111111</td>\n",
       "      <td>0.0</td>\n",
       "      <td>0.000000</td>\n",
       "      <td>0.0</td>\n",
       "      <td>0.0</td>\n",
       "      <td>0.0</td>\n",
       "      <td>9.0</td>\n",
       "    </tr>\n",
       "    <tr>\n",
       "      <td>4</td>\n",
       "      <td>100007</td>\n",
       "      <td>0</td>\n",
       "      <td>121500.0</td>\n",
       "      <td>513000.0</td>\n",
       "      <td>21865.5</td>\n",
       "      <td>513000.0</td>\n",
       "      <td>0.028663</td>\n",
       "      <td>-19932</td>\n",
       "      <td>-3038</td>\n",
       "      <td>-4311.0</td>\n",
       "      <td>...</td>\n",
       "      <td>0.50</td>\n",
       "      <td>0.166667</td>\n",
       "      <td>0.0</td>\n",
       "      <td>0.000000</td>\n",
       "      <td>0.0</td>\n",
       "      <td>0.166667</td>\n",
       "      <td>0.0</td>\n",
       "      <td>0.0</td>\n",
       "      <td>0.0</td>\n",
       "      <td>6.0</td>\n",
       "    </tr>\n",
       "    <tr>\n",
       "      <td>...</td>\n",
       "      <td>...</td>\n",
       "      <td>...</td>\n",
       "      <td>...</td>\n",
       "      <td>...</td>\n",
       "      <td>...</td>\n",
       "      <td>...</td>\n",
       "      <td>...</td>\n",
       "      <td>...</td>\n",
       "      <td>...</td>\n",
       "      <td>...</td>\n",
       "      <td>...</td>\n",
       "      <td>...</td>\n",
       "      <td>...</td>\n",
       "      <td>...</td>\n",
       "      <td>...</td>\n",
       "      <td>...</td>\n",
       "      <td>...</td>\n",
       "      <td>...</td>\n",
       "      <td>...</td>\n",
       "      <td>...</td>\n",
       "      <td>...</td>\n",
       "    </tr>\n",
       "    <tr>\n",
       "      <td>307506</td>\n",
       "      <td>456251</td>\n",
       "      <td>0</td>\n",
       "      <td>157500.0</td>\n",
       "      <td>254700.0</td>\n",
       "      <td>27558.0</td>\n",
       "      <td>225000.0</td>\n",
       "      <td>0.032561</td>\n",
       "      <td>-9327</td>\n",
       "      <td>-236</td>\n",
       "      <td>-8456.0</td>\n",
       "      <td>...</td>\n",
       "      <td>0.00</td>\n",
       "      <td>0.000000</td>\n",
       "      <td>0.0</td>\n",
       "      <td>0.000000</td>\n",
       "      <td>0.0</td>\n",
       "      <td>1.000000</td>\n",
       "      <td>0.0</td>\n",
       "      <td>0.0</td>\n",
       "      <td>0.0</td>\n",
       "      <td>1.0</td>\n",
       "    </tr>\n",
       "    <tr>\n",
       "      <td>307507</td>\n",
       "      <td>456252</td>\n",
       "      <td>0</td>\n",
       "      <td>72000.0</td>\n",
       "      <td>269550.0</td>\n",
       "      <td>12001.5</td>\n",
       "      <td>225000.0</td>\n",
       "      <td>0.025164</td>\n",
       "      <td>-20775</td>\n",
       "      <td>365243</td>\n",
       "      <td>-4388.0</td>\n",
       "      <td>...</td>\n",
       "      <td>0.00</td>\n",
       "      <td>0.000000</td>\n",
       "      <td>1.0</td>\n",
       "      <td>0.000000</td>\n",
       "      <td>0.0</td>\n",
       "      <td>0.000000</td>\n",
       "      <td>0.0</td>\n",
       "      <td>0.0</td>\n",
       "      <td>0.0</td>\n",
       "      <td>1.0</td>\n",
       "    </tr>\n",
       "    <tr>\n",
       "      <td>307508</td>\n",
       "      <td>456253</td>\n",
       "      <td>0</td>\n",
       "      <td>153000.0</td>\n",
       "      <td>677664.0</td>\n",
       "      <td>29979.0</td>\n",
       "      <td>585000.0</td>\n",
       "      <td>0.005002</td>\n",
       "      <td>-14966</td>\n",
       "      <td>-7921</td>\n",
       "      <td>-6737.0</td>\n",
       "      <td>...</td>\n",
       "      <td>0.00</td>\n",
       "      <td>0.000000</td>\n",
       "      <td>0.0</td>\n",
       "      <td>0.000000</td>\n",
       "      <td>0.0</td>\n",
       "      <td>1.000000</td>\n",
       "      <td>0.0</td>\n",
       "      <td>0.0</td>\n",
       "      <td>0.0</td>\n",
       "      <td>2.0</td>\n",
       "    </tr>\n",
       "    <tr>\n",
       "      <td>307509</td>\n",
       "      <td>456254</td>\n",
       "      <td>0</td>\n",
       "      <td>171000.0</td>\n",
       "      <td>370107.0</td>\n",
       "      <td>20205.0</td>\n",
       "      <td>319500.0</td>\n",
       "      <td>0.005313</td>\n",
       "      <td>-11961</td>\n",
       "      <td>-4786</td>\n",
       "      <td>-2562.0</td>\n",
       "      <td>...</td>\n",
       "      <td>0.00</td>\n",
       "      <td>0.500000</td>\n",
       "      <td>0.0</td>\n",
       "      <td>0.000000</td>\n",
       "      <td>0.0</td>\n",
       "      <td>0.500000</td>\n",
       "      <td>0.0</td>\n",
       "      <td>0.0</td>\n",
       "      <td>0.0</td>\n",
       "      <td>2.0</td>\n",
       "    </tr>\n",
       "    <tr>\n",
       "      <td>307510</td>\n",
       "      <td>456255</td>\n",
       "      <td>0</td>\n",
       "      <td>157500.0</td>\n",
       "      <td>675000.0</td>\n",
       "      <td>49117.5</td>\n",
       "      <td>675000.0</td>\n",
       "      <td>0.046220</td>\n",
       "      <td>-16856</td>\n",
       "      <td>-1262</td>\n",
       "      <td>-5128.0</td>\n",
       "      <td>...</td>\n",
       "      <td>0.25</td>\n",
       "      <td>0.000000</td>\n",
       "      <td>0.0</td>\n",
       "      <td>0.125000</td>\n",
       "      <td>0.0</td>\n",
       "      <td>0.250000</td>\n",
       "      <td>0.0</td>\n",
       "      <td>0.0</td>\n",
       "      <td>0.0</td>\n",
       "      <td>8.0</td>\n",
       "    </tr>\n",
       "  </tbody>\n",
       "</table>\n",
       "<p>307511 rows × 498 columns</p>\n",
       "</div>"
      ],
      "text/plain": [
       "        SK_ID_CURR  CNT_CHILDREN  AMT_INCOME_TOTAL  AMT_CREDIT  AMT_ANNUITY  \\\n",
       "0           100002             0          202500.0    406597.5      24700.5   \n",
       "1           100003             0          270000.0   1293502.5      35698.5   \n",
       "2           100004             0           67500.0    135000.0       6750.0   \n",
       "3           100006             0          135000.0    312682.5      29686.5   \n",
       "4           100007             0          121500.0    513000.0      21865.5   \n",
       "...            ...           ...               ...         ...          ...   \n",
       "307506      456251             0          157500.0    254700.0      27558.0   \n",
       "307507      456252             0           72000.0    269550.0      12001.5   \n",
       "307508      456253             0          153000.0    677664.0      29979.0   \n",
       "307509      456254             0          171000.0    370107.0      20205.0   \n",
       "307510      456255             0          157500.0    675000.0      49117.5   \n",
       "\n",
       "        AMT_GOODS_PRICE  REGION_POPULATION_RELATIVE  DAYS_BIRTH  \\\n",
       "0              351000.0                    0.018801       -9461   \n",
       "1             1129500.0                    0.003541      -16765   \n",
       "2              135000.0                    0.010032      -19046   \n",
       "3              297000.0                    0.008019      -19005   \n",
       "4              513000.0                    0.028663      -19932   \n",
       "...                 ...                         ...         ...   \n",
       "307506         225000.0                    0.032561       -9327   \n",
       "307507         225000.0                    0.025164      -20775   \n",
       "307508         585000.0                    0.005002      -14966   \n",
       "307509         319500.0                    0.005313      -11961   \n",
       "307510         675000.0                    0.046220      -16856   \n",
       "\n",
       "        DAYS_EMPLOYED  DAYS_REGISTRATION  ...  \\\n",
       "0                -637            -3648.0  ...   \n",
       "1               -1188            -1186.0  ...   \n",
       "2                -225            -4260.0  ...   \n",
       "3               -3039            -9833.0  ...   \n",
       "4               -3038            -4311.0  ...   \n",
       "...               ...                ...  ...   \n",
       "307506           -236            -8456.0  ...   \n",
       "307507         365243            -4388.0  ...   \n",
       "307508          -7921            -6737.0  ...   \n",
       "307509          -4786            -2562.0  ...   \n",
       "307510          -1262            -5128.0  ...   \n",
       "\n",
       "        app_PRODUCT_COMBINATION_Cash X-Sell: middle  \\\n",
       "0                                              0.00   \n",
       "1                                              0.00   \n",
       "2                                              0.00   \n",
       "3                                              0.00   \n",
       "4                                              0.50   \n",
       "...                                             ...   \n",
       "307506                                         0.00   \n",
       "307507                                         0.00   \n",
       "307508                                         0.00   \n",
       "307509                                         0.00   \n",
       "307510                                         0.25   \n",
       "\n",
       "        app_PRODUCT_COMBINATION_POS household with interest  \\\n",
       "0                                                0.000000     \n",
       "1                                                0.333333     \n",
       "2                                                0.000000     \n",
       "3                                                0.111111     \n",
       "4                                                0.166667     \n",
       "...                                                   ...     \n",
       "307506                                           0.000000     \n",
       "307507                                           0.000000     \n",
       "307508                                           0.000000     \n",
       "307509                                           0.500000     \n",
       "307510                                           0.000000     \n",
       "\n",
       "        app_PRODUCT_COMBINATION_POS household without interest  \\\n",
       "0                                                     0.0        \n",
       "1                                                     0.0        \n",
       "2                                                     0.0        \n",
       "3                                                     0.0        \n",
       "4                                                     0.0        \n",
       "...                                                   ...        \n",
       "307506                                                0.0        \n",
       "307507                                                1.0        \n",
       "307508                                                0.0        \n",
       "307509                                                0.0        \n",
       "307510                                                0.0        \n",
       "\n",
       "        app_PRODUCT_COMBINATION_POS industry with interest  \\\n",
       "0                                                0.000000    \n",
       "1                                                0.333333    \n",
       "2                                                0.000000    \n",
       "3                                                0.111111    \n",
       "4                                                0.000000    \n",
       "...                                                   ...    \n",
       "307506                                           0.000000    \n",
       "307507                                           0.000000    \n",
       "307508                                           0.000000    \n",
       "307509                                           0.000000    \n",
       "307510                                           0.125000    \n",
       "\n",
       "        app_PRODUCT_COMBINATION_POS industry without interest  \\\n",
       "0                                                     0.0       \n",
       "1                                                     0.0       \n",
       "2                                                     0.0       \n",
       "3                                                     0.0       \n",
       "4                                                     0.0       \n",
       "...                                                   ...       \n",
       "307506                                                0.0       \n",
       "307507                                                0.0       \n",
       "307508                                                0.0       \n",
       "307509                                                0.0       \n",
       "307510                                                0.0       \n",
       "\n",
       "        app_PRODUCT_COMBINATION_POS mobile with interest  \\\n",
       "0                                               0.000000   \n",
       "1                                               0.000000   \n",
       "2                                               0.000000   \n",
       "3                                               0.000000   \n",
       "4                                               0.166667   \n",
       "...                                                  ...   \n",
       "307506                                          1.000000   \n",
       "307507                                          0.000000   \n",
       "307508                                          1.000000   \n",
       "307509                                          0.500000   \n",
       "307510                                          0.250000   \n",
       "\n",
       "        app_PRODUCT_COMBINATION_POS mobile without interest  \\\n",
       "0                                                     0.0     \n",
       "1                                                     0.0     \n",
       "2                                                     1.0     \n",
       "3                                                     0.0     \n",
       "4                                                     0.0     \n",
       "...                                                   ...     \n",
       "307506                                                0.0     \n",
       "307507                                                0.0     \n",
       "307508                                                0.0     \n",
       "307509                                                0.0     \n",
       "307510                                                0.0     \n",
       "\n",
       "        app_PRODUCT_COMBINATION_POS other with interest  \\\n",
       "0                                                   1.0   \n",
       "1                                                   0.0   \n",
       "2                                                   0.0   \n",
       "3                                                   0.0   \n",
       "4                                                   0.0   \n",
       "...                                                 ...   \n",
       "307506                                              0.0   \n",
       "307507                                              0.0   \n",
       "307508                                              0.0   \n",
       "307509                                              0.0   \n",
       "307510                                              0.0   \n",
       "\n",
       "        app_PRODUCT_COMBINATION_POS others without interest  app_pre_app_count  \n",
       "0                                                     0.0                  1.0  \n",
       "1                                                     0.0                  3.0  \n",
       "2                                                     0.0                  1.0  \n",
       "3                                                     0.0                  9.0  \n",
       "4                                                     0.0                  6.0  \n",
       "...                                                   ...                  ...  \n",
       "307506                                                0.0                  1.0  \n",
       "307507                                                0.0                  1.0  \n",
       "307508                                                0.0                  2.0  \n",
       "307509                                                0.0                  2.0  \n",
       "307510                                                0.0                  8.0  \n",
       "\n",
       "[307511 rows x 498 columns]"
      ]
     },
     "execution_count": 6,
     "metadata": {},
     "output_type": "execute_result"
    }
   ],
   "source": [
    "train_df"
   ]
  },
  {
   "cell_type": "markdown",
   "metadata": {},
   "source": [
    "### Adding some useful features"
   ]
  },
  {
   "cell_type": "code",
   "execution_count": 7,
   "metadata": {},
   "outputs": [],
   "source": [
    "train_df['DAYS_EMPLOYED'].replace({365243: np.nan}, inplace = True) # Deleting outsiders"
   ]
  },
  {
   "cell_type": "code",
   "execution_count": 8,
   "metadata": {},
   "outputs": [],
   "source": [
    "train_df['CREDIT_DIV_ANNUITY'] = train_df['AMT_CREDIT']/train_df['AMT_ANNUITY']"
   ]
  },
  {
   "cell_type": "code",
   "execution_count": 9,
   "metadata": {},
   "outputs": [],
   "source": [
    "train_df['ANNUITY_INCOME_PERCENT'] = train_df['AMT_ANNUITY'] / train_df['AMT_INCOME_TOTAL']"
   ]
  },
  {
   "cell_type": "code",
   "execution_count": 10,
   "metadata": {},
   "outputs": [],
   "source": [
    "train_df['BIRTH_DIV_EMPLOYED'] = train_df['DAYS_BIRTH']/train_df['DAYS_EMPLOYED']"
   ]
  },
  {
   "cell_type": "code",
   "execution_count": 11,
   "metadata": {},
   "outputs": [],
   "source": [
    "train_df['DAYREG_DIV_DAYPUB'] = train_df['DAYS_REGISTRATION']/train_df['DAYS_ID_PUBLISH']"
   ]
  },
  {
   "cell_type": "code",
   "execution_count": 12,
   "metadata": {},
   "outputs": [],
   "source": [
    "train_df['CREDIT_MINUS_GOOD'] = train_df['AMT_CREDIT']/train_df['AMT_GOODS_PRICE']"
   ]
  },
  {
   "cell_type": "code",
   "execution_count": 13,
   "metadata": {},
   "outputs": [],
   "source": [
    "train_df['INCOME_CHILD'] = train_df['AMT_INCOME_TOTAL']/train_df['CNT_CHILDREN']"
   ]
  },
  {
   "cell_type": "code",
   "execution_count": 14,
   "metadata": {},
   "outputs": [],
   "source": [
    "train_df['INCOME_DIV_FAM'] = train_df['AMT_INCOME_TOTAL']/train_df['CNT_FAM_MEMBERS']"
   ]
  },
  {
   "cell_type": "code",
   "execution_count": 15,
   "metadata": {},
   "outputs": [],
   "source": [
    "train_df['INTEREST'] = train_df['app_CNT_PAYMENT']*train_df['AMT_ANNUITY'] - train_df['AMT_CREDIT']"
   ]
  },
  {
   "cell_type": "code",
   "execution_count": 16,
   "metadata": {},
   "outputs": [],
   "source": [
    "train_df['INTEREST_RATE'] = 2*12*train_df['INTEREST']/(train_df['AMT_CREDIT']*(train_df['app_CNT_PAYMENT']+1))"
   ]
  },
  {
   "cell_type": "code",
   "execution_count": 17,
   "metadata": {},
   "outputs": [],
   "source": [
    "train_df['INTEREST_SHARE'] = train_df['INTEREST']/train_df['AMT_CREDIT']"
   ]
  },
  {
   "cell_type": "markdown",
   "metadata": {},
   "source": [
    "#### Checking for Nan, inf or -inf values and substituding them with the mean of each numeric columns"
   ]
  },
  {
   "cell_type": "code",
   "execution_count": 18,
   "metadata": {},
   "outputs": [],
   "source": [
    "# Substituting inf and -inf values with nan\n",
    "train_df = train_df.replace([np.inf, -np.inf], np.nan)"
   ]
  },
  {
   "cell_type": "code",
   "execution_count": 19,
   "metadata": {},
   "outputs": [],
   "source": [
    "# Filling the Nan values in the new numeric columns with the mean\n",
    "for column in list(train_df.columns):\n",
    "    if train_df[column].dtypes == 'float64':\n",
    "        train_df[column] = train_df[column].fillna(train_df[column].mean())"
   ]
  },
  {
   "cell_type": "code",
   "execution_count": 20,
   "metadata": {},
   "outputs": [
    {
     "data": {
      "text/plain": [
       "False"
      ]
     },
     "execution_count": 20,
     "metadata": {},
     "output_type": "execute_result"
    }
   ],
   "source": [
    "# Checking if there are still any problems into the dataframe\n",
    "train_df.isnull().any().any()"
   ]
  },
  {
   "cell_type": "markdown",
   "metadata": {},
   "source": [
    "---"
   ]
  },
  {
   "cell_type": "code",
   "execution_count": 21,
   "metadata": {},
   "outputs": [
    {
     "data": {
      "text/html": [
       "<div>\n",
       "<style scoped>\n",
       "    .dataframe tbody tr th:only-of-type {\n",
       "        vertical-align: middle;\n",
       "    }\n",
       "\n",
       "    .dataframe tbody tr th {\n",
       "        vertical-align: top;\n",
       "    }\n",
       "\n",
       "    .dataframe thead th {\n",
       "        text-align: right;\n",
       "    }\n",
       "</style>\n",
       "<table border=\"1\" class=\"dataframe\">\n",
       "  <thead>\n",
       "    <tr style=\"text-align: right;\">\n",
       "      <th></th>\n",
       "      <th>SK_ID_CURR</th>\n",
       "    </tr>\n",
       "  </thead>\n",
       "  <tbody>\n",
       "    <tr>\n",
       "      <td>0</td>\n",
       "      <td>100002</td>\n",
       "    </tr>\n",
       "    <tr>\n",
       "      <td>1</td>\n",
       "      <td>100003</td>\n",
       "    </tr>\n",
       "    <tr>\n",
       "      <td>2</td>\n",
       "      <td>100004</td>\n",
       "    </tr>\n",
       "    <tr>\n",
       "      <td>3</td>\n",
       "      <td>100006</td>\n",
       "    </tr>\n",
       "    <tr>\n",
       "      <td>4</td>\n",
       "      <td>100007</td>\n",
       "    </tr>\n",
       "    <tr>\n",
       "      <td>...</td>\n",
       "      <td>...</td>\n",
       "    </tr>\n",
       "    <tr>\n",
       "      <td>307506</td>\n",
       "      <td>456251</td>\n",
       "    </tr>\n",
       "    <tr>\n",
       "      <td>307507</td>\n",
       "      <td>456252</td>\n",
       "    </tr>\n",
       "    <tr>\n",
       "      <td>307508</td>\n",
       "      <td>456253</td>\n",
       "    </tr>\n",
       "    <tr>\n",
       "      <td>307509</td>\n",
       "      <td>456254</td>\n",
       "    </tr>\n",
       "    <tr>\n",
       "      <td>307510</td>\n",
       "      <td>456255</td>\n",
       "    </tr>\n",
       "  </tbody>\n",
       "</table>\n",
       "<p>307511 rows × 1 columns</p>\n",
       "</div>"
      ],
      "text/plain": [
       "        SK_ID_CURR\n",
       "0           100002\n",
       "1           100003\n",
       "2           100004\n",
       "3           100006\n",
       "4           100007\n",
       "...            ...\n",
       "307506      456251\n",
       "307507      456252\n",
       "307508      456253\n",
       "307509      456254\n",
       "307510      456255\n",
       "\n",
       "[307511 rows x 1 columns]"
      ]
     },
     "execution_count": 21,
     "metadata": {},
     "output_type": "execute_result"
    }
   ],
   "source": [
    "# Selecting the 'SK_ID_CURR' column for future use\n",
    "client_names = train_df[['SK_ID_CURR']]\n",
    "client_names"
   ]
  },
  {
   "cell_type": "code",
   "execution_count": 22,
   "metadata": {},
   "outputs": [],
   "source": [
    "# Splitting dataframe in features and target variable\n",
    "feature_cols = list(train_df.columns)\n",
    "y = train_df.TARGET.values # Target variable\n",
    "train_df = train_df[feature_cols].drop(['TARGET'], axis = 1) \n",
    "train_df = train_df.drop(['SK_ID_CURR'], axis = 1) # Features\n"
   ]
  },
  {
   "cell_type": "markdown",
   "metadata": {},
   "source": [
    "#### Dividing the data into train, val and test datasets"
   ]
  },
  {
   "cell_type": "markdown",
   "metadata": {},
   "source": [
    "Now that we have defined the initial dataframe of features and the Target variable array, we can divide our dataset into training, validation and testing sets, and then select suitable methods for binary classification in order to develop our statistical model."
   ]
  },
  {
   "cell_type": "code",
   "execution_count": 23,
   "metadata": {},
   "outputs": [
    {
     "name": "stdout",
     "output_type": "stream",
     "text": [
      "Shape of X_train: (215257, 506)\n",
      "Shape of X_val: (46127, 506)\n",
      "Shape of X_test: (46127, 506)\n"
     ]
    }
   ],
   "source": [
    "# Splitting the dataset\n",
    "X_train, X_temp, y_train, y_temp = train_test_split(train_df, y, stratify = y, test_size=0.3, random_state=42)\n",
    "X_val, X_test, y_val, y_test = train_test_split(X_temp, y_temp, stratify = y_temp, test_size=0.5, random_state=42)\n",
    "\n",
    "print('Shape of X_train:',X_train.shape)\n",
    "print('Shape of X_val:',X_val.shape)\n",
    "print('Shape of X_test:',X_test.shape)"
   ]
  },
  {
   "cell_type": "markdown",
   "metadata": {},
   "source": [
    "As we can see, we can count over 500 columns in our dataframes, and so many different features can consistently slow our models and generate too much noise, so that becomes even more difficult finding the correct probability that each client will or won't pay back the loan."
   ]
  },
  {
   "cell_type": "markdown",
   "metadata": {},
   "source": [
    "For these reasons, we already decided to select the best feature with light gbm"
   ]
  },
  {
   "cell_type": "code",
   "execution_count": 24,
   "metadata": {},
   "outputs": [
    {
     "name": "stdout",
     "output_type": "stream",
     "text": [
      "Training until validation scores don't improve for 100 rounds\n",
      "[200]\tvalid_0's auc: 0.756421\tvalid_0's binary_logloss: 0.590982\n",
      "[400]\tvalid_0's auc: 0.770388\tvalid_0's binary_logloss: 0.563871\n",
      "[600]\tvalid_0's auc: 0.776057\tvalid_0's binary_logloss: 0.549486\n",
      "[800]\tvalid_0's auc: 0.778801\tvalid_0's binary_logloss: 0.539544\n",
      "[1000]\tvalid_0's auc: 0.780082\tvalid_0's binary_logloss: 0.531793\n",
      "[1200]\tvalid_0's auc: 0.780624\tvalid_0's binary_logloss: 0.525166\n",
      "[1400]\tvalid_0's auc: 0.78081\tvalid_0's binary_logloss: 0.519461\n",
      "Early stopping, best iteration is:\n",
      "[1423]\tvalid_0's auc: 0.780912\tvalid_0's binary_logloss: 0.518746\n"
     ]
    },
    {
     "data": {
      "text/plain": [
       "LGBMClassifier(boosting_type='gbdt', class_weight='balanced',\n",
       "               colsample_bytree=0.8, importance_type='split',\n",
       "               learning_rate=0.01, max_depth=7, min_child_samples=20,\n",
       "               min_child_weight=0.001, min_split_gain=0.0, n_estimators=2000,\n",
       "               n_jobs=-1, num_leaves=31, objective=None, random_state=None,\n",
       "               reg_alpha=0.0, reg_lambda=0.0, silent=True, subsample=0.9,\n",
       "               subsample_for_bin=200000, subsample_freq=0)"
      ]
     },
     "execution_count": 24,
     "metadata": {},
     "output_type": "execute_result"
    }
   ],
   "source": [
    "model_sel = lgb.LGBMClassifier(boosting_type='gbdt', max_depth=7, learning_rate=0.01, n_estimators= 2000, \n",
    "                 class_weight='balanced', subsample=0.9, colsample_bytree= 0.8, n_jobs=-1)\n",
    "train_features, valid_features, train_y, valid_y = train_test_split(X_train, y_train, test_size = 0.15, random_state = 42)\n",
    "model_sel.fit(train_features, train_y, early_stopping_rounds=100, eval_set = [(valid_features, valid_y)], eval_metric = 'auc', verbose = 200)"
   ]
  },
  {
   "cell_type": "code",
   "execution_count": 25,
   "metadata": {},
   "outputs": [],
   "source": [
    "get_feat = pd.DataFrame(sorted(zip(model_sel.feature_importances_, train_df.columns)), columns=['Value','Feature'])\n",
    "features_sorted = get_feat.sort_values(by=\"Value\", ascending=False)\n",
    "features_sel = list(features_sorted[features_sorted['Value']>=50]['Feature'])"
   ]
  },
  {
   "cell_type": "code",
   "execution_count": 30,
   "metadata": {},
   "outputs": [
    {
     "name": "stdout",
     "output_type": "stream",
     "text": [
      "['CREDIT_DIV_ANNUITY', 'EXT_SOURCE_1', 'EXT_SOURCE_2', 'EXT_SOURCE_3', 'DAYS_BIRTH', 'CREDIT_MINUS_GOOD', 'DAYS_EMPLOYED', 'AMT_ANNUITY', 'ins_PAYMENT_DIFF', 'POS_CNT_INSTALMENT_FUTURE', 'ANNUITY_INCOME_PERCENT', 'DAYS_ID_PUBLISH', 'BUR_AMT_CREDIT_SUM_DEBT', 'app_CNT_PAYMENT', 'app_AMT_ANNUITY', 'POS_prev_pos_count', 'AMT_CREDIT', 'AMT_GOODS_PRICE', 'ins_DBD', 'DAYS_LAST_PHONE_CHANGE', 'DAYS_REGISTRATION', 'app_AMT_DOWN_PAYMENT', 'BUR_AMT_CREDIT_MAX_OVERDUE', 'BIRTH_DIV_EMPLOYED', 'BUR_AMT_CREDIT_SUM', 'ins_CNT_DRAWINGS_ATM_CURRENT', 'REGION_POPULATION_RELATIVE', 'ins_AMT_PAYMENT', 'ins_NUM_INSTALMENT_VERSION', 'BUR_DAYS_CREDIT_ENDDATE', 'BUR_Loan_FRQ', 'BUR_DAYS_CREDIT', 'app_NAME_CONTRACT_STATUS_Refused', 'OWN_CAR_AGE', 'ins_NUM_INSTALMENT_NUMBER', 'ins_ins_count', 'ins_PAYMENT_PERC', 'INTEREST', 'app_HOUR_APPR_PROCESS_START', 'POS_SK_DPD_DEF', 'app_SELLERPLACE_AREA', 'app_NAME_YIELD_GROUP_high', 'POS_MONTHS_BALANCE', 'DAYREG_DIV_DAYPUB', 'BUR_CREDIT_ACTIVE_Closed', 'CODE_GENDER_F', 'BUR_PLoan_num', 'app_DAYS_DECISION', 'POS_NAME_CONTRACT_STATUS_Active', 'BUR_AMT_CREDIT_SUM_LIMIT', 'BUR_DAYS_ENDDATE_FACT', 'app_DAYS_LAST_DUE', 'app_NAME_YIELD_GROUP_low_action', 'ins_DAYS_ENTRY_PAYMENT', 'NAME_FAMILY_STATUS_Married', 'ins_CNT_DRAWINGS_CURRENT', 'NAME_EDUCATION_TYPE_Higher education', 'BUR_BB_RISK', 'BUR_CREDIT_TYPE_Mortgage', 'REGION_RATING_CLIENT_W_CITY', 'INTEREST_RATE', 'POS_NAME_CONTRACT_STATUS_Completed', 'app_RATE_DOWN_PAYMENT', 'app_DAYS_FIRST_DUE', 'AMT_INCOME_TOTAL', 'INTEREST_SHARE', 'app_PRODUCT_COMBINATION_Cash X-Sell: low', 'ins_AMT_INSTALMENT', 'app_NAME_YIELD_GROUP_low_normal', 'ins_DAYS_INSTALMENT', 'BUR_CREDIT_TYPE_Microloan', 'BUR_DAYS_CREDIT_UPDATE', 'app_DAYS_LAST_DUE_1ST_VERSION', 'CODE_GENDER_M', 'HOUR_APPR_PROCESS_START', 'INCOME_DIV_FAM', 'POS_CNT_INSTALMENT', 'app_PRODUCT_COMBINATION_POS industry with interest', 'app_DAYS_TERMINATION', 'app_NAME_TYPE_SUITE_Unaccompanied', 'ins_AMT_CREDIT_LIMIT_ACTUAL', 'app_AMT_APPLICATION', 'DEF_60_CNT_SOCIAL_CIRCLE', 'TOTALAREA_MODE', 'ins_CNT_INSTALMENT_MATURE_CUM', 'app_NAME_CLIENT_TYPE_New', 'YEARS_BEGINEXPLUATATION_MODE', 'app_AMT_CREDIT', 'BUR_AMT_ANNUITY', 'app_AMT_GOODS_PRICE', 'FLAG_OWN_CAR_N', 'app_PRODUCT_COMBINATION_Cash X-Sell: high', 'APARTMENTS_AVG', 'app_WEEKDAY_APPR_PROCESS_START_SATURDAY', 'BASEMENTAREA_AVG', 'app_NAME_PRODUCT_TYPE_x-sell', 'app_CHANNEL_TYPE_AP+ (Cash loan)', 'POS_SK_DPD', 'app_WEEKDAY_APPR_PROCESS_START_SUNDAY', 'BUR_CREDIT_ACTIVE_Active', 'app_PRODUCT_COMBINATION_POS industry without interest', 'NAME_CONTRACT_TYPE_Cash loans', 'app_WEEKDAY_APPR_PROCESS_START_WEDNESDAY', 'app_WEEKDAY_APPR_PROCESS_START_FRIDAY', 'INCOME_CHILD', 'app_PRODUCT_COMBINATION_Cash Street: low', 'ins_AMT_DRAWINGS_ATM_CURRENT', 'app_NAME_GOODS_CATEGORY_Photo / Cinema Equipment', 'app_NAME_PRODUCT_TYPE_XNA', 'NAME_EDUCATION_TYPE_Secondary / secondary special', 'app_PRODUCT_COMBINATION_Cash X-Sell: middle', 'YEARS_BEGINEXPLUATATION_AVG', 'BUR_CREDIT_TYPE_Car loan', 'app_NAME_CLIENT_TYPE_Repeater', 'AMT_REQ_CREDIT_BUREAU_QRT', 'LANDAREA_AVG', 'FLAG_WORK_PHONE', 'app_WEEKDAY_APPR_PROCESS_START_MONDAY', 'app_NAME_SELLER_INDUSTRY_Furniture', 'DEF_30_CNT_SOCIAL_CIRCLE', 'app_NAME_PRODUCT_TYPE_walk-in', 'app_CHANNEL_TYPE_Credit and cash offices', 'FLAG_DOCUMENT_3', 'app_NAME_SELLER_INDUSTRY_Construction', 'LANDAREA_MODE', 'app_NAME_YIELD_GROUP_middle', 'app_NAME_YIELD_GROUP_XNA', 'YEARS_BEGINEXPLUATATION_MEDI', 'COMMONAREA_AVG', 'APARTMENTS_MODE', 'app_CHANNEL_TYPE_Stone', 'OCCUPATION_TYPE_Core staff', 'app_NAME_CLIENT_TYPE_Refreshed', 'YEARS_BUILD_MODE', 'app_WEEKDAY_APPR_PROCESS_START_THURSDAY', 'app_NAME_CONTRACT_STATUS_Approved', 'BUR_CREDIT_TYPE_Consumer credit', 'ins_NAME_CONTRACT_STATUS_Sent proposal', 'app_NAME_CONTRACT_STATUS_Canceled', 'LIVINGAREA_MEDI', 'BUR_AMT_CREDIT_SUM_OVERDUE', 'app_NAME_TYPE_SUITE_Family', 'NONLIVINGAREA_AVG', 'LIVINGAREA_MODE', 'app_NAME_GOODS_CATEGORY_Furniture', 'app_CHANNEL_TYPE_Channel of corporate sales', 'ins_AMT_RECEIVABLE_PRINCIPAL', 'REG_CITY_NOT_LIVE_CITY', 'NONLIVINGAPARTMENTS_MODE', 'ins_SK_DPD', 'LIVINGAREA_AVG', 'BUR_CREDIT_TYPE_Credit card', 'AMT_REQ_CREDIT_BUREAU_YEAR', 'ins_AMT_BALANCE', 'ORGANIZATION_TYPE_Military', 'LANDAREA_MEDI', 'app_NAME_GOODS_CATEGORY_XNA', 'app_NFLAG_INSURED_ON_APPROVAL', 'app_NAME_PAYMENT_TYPE_Cash through the bank', 'app_PRODUCT_COMBINATION_Cash Street: high', 'app_CHANNEL_TYPE_Contact center', 'ORGANIZATION_TYPE_Construction', 'app_NAME_PAYMENT_TYPE_XNA', 'app_NAME_CASH_LOAN_PURPOSE_XNA', 'app_NAME_SELLER_INDUSTRY_XNA', 'app_CODE_REJECT_REASON_LIMIT', 'POS_NAME_CONTRACT_STATUS_Signed', 'NAME_EDUCATION_TYPE_Academic degree', 'LIVINGAPARTMENTS_MODE', 'ORGANIZATION_TYPE_Self-employed', 'NONLIVINGAREA_MODE', 'app_CODE_REJECT_REASON_SCO', 'app_NAME_SELLER_INDUSTRY_Connectivity', 'ins_AMT_DRAWINGS_POS_CURRENT', 'BASEMENTAREA_MEDI', 'app_CODE_REJECT_REASON_HC', 'FLOORSMAX_AVG', 'APARTMENTS_MEDI', 'ins_SK_DPD_DEF', 'app_NAME_GOODS_CATEGORY_Mobile', 'NAME_INCOME_TYPE_State servant', 'ENTRANCES_AVG', 'app_WEEKDAY_APPR_PROCESS_START_TUESDAY', 'app_NAME_SELLER_INDUSTRY_Consumer electronics', 'app_NAME_GOODS_CATEGORY_Consumer Electronics', 'POS_NAME_CONTRACT_STATUS_Returned to the store', 'ORGANIZATION_TYPE_School', 'app_NAME_TYPE_SUITE_Children', 'app_CHANNEL_TYPE_Regional / Local', 'app_PRODUCT_COMBINATION_POS mobile with interest', 'app_NAME_PORTFOLIO_Cash', 'app_NAME_PORTFOLIO_Cards', 'app_CODE_REJECT_REASON_XAP', 'YEARS_BUILD_AVG', 'ins_AMT_DRAWINGS_CURRENT', 'OBS_60_CNT_SOCIAL_CIRCLE', 'FLOORSMIN_AVG', 'COMMONAREA_MODE', 'app_NAME_CONTRACT_TYPE_Revolving loans', 'NAME_INCOME_TYPE_Working', 'ins_cc_count', 'OBS_30_CNT_SOCIAL_CIRCLE'] 202\n"
     ]
    }
   ],
   "source": [
    "print(features_sel, len(features_sel))"
   ]
  },
  {
   "cell_type": "code",
   "execution_count": 28,
   "metadata": {},
   "outputs": [],
   "source": [
    "# Selecting the best 150 features out of 202\n",
    "best_features = features_sel[0:150]"
   ]
  },
  {
   "cell_type": "code",
   "execution_count": 32,
   "metadata": {},
   "outputs": [],
   "source": [
    "# Defining new dataframes with only the selected features\n",
    "X_train_sel = X_train[features_sel]\n",
    "X_val_sel = X_val[features_sel]\n",
    "X_test_sel = X_test[features_sel]"
   ]
  },
  {
   "cell_type": "code",
   "execution_count": 33,
   "metadata": {},
   "outputs": [],
   "source": [
    "X_train_best = X_train_sel[best_features]\n",
    "X_test_best = X_test_sel[best_features]\n",
    "X_val_best = X_val_sel[best_features]"
   ]
  },
  {
   "cell_type": "code",
   "execution_count": 34,
   "metadata": {},
   "outputs": [],
   "source": [
    "# Feature Scaling\n",
    "sc = StandardScaler()\n",
    "X_train_sel = sc.fit_transform(X_train_sel)\n",
    "X_train_sel = sc.transform(X_train_sel)\n",
    "X_test_sel = sc.fit_transform(X_test_sel)\n",
    "X_test_sel = sc.transform(X_test_sel)\n",
    "X_val_sel = sc.fit_transform(X_val_sel)\n",
    "X_val_sel = sc.transform(X_val_sel)\n"
   ]
  },
  {
   "cell_type": "code",
   "execution_count": 35,
   "metadata": {},
   "outputs": [],
   "source": [
    "X_train_best = sc.fit_transform(X_train_best)\n",
    "X_train_best = sc.transform(X_train_best)\n",
    "X_test_best = sc.fit_transform(X_test_best)\n",
    "X_test_best = sc.transform(X_test_best)\n",
    "X_val_best = sc.fit_transform(X_val_best)\n",
    "X_val_best = sc.transform(X_val_best)"
   ]
  },
  {
   "cell_type": "markdown",
   "metadata": {},
   "source": [
    "### Logistic Regression"
   ]
  },
  {
   "cell_type": "code",
   "execution_count": 36,
   "metadata": {},
   "outputs": [],
   "source": [
    "aucs = {}"
   ]
  },
  {
   "cell_type": "code",
   "execution_count": 37,
   "metadata": {
    "scrolled": true
   },
   "outputs": [
    {
     "name": "stderr",
     "output_type": "stream",
     "text": [
      "C:\\Users\\Notebook HP\\Anaconda3\\lib\\site-packages\\sklearn\\linear_model\\logistic.py:432: FutureWarning: Default solver will be changed to 'lbfgs' in 0.22. Specify a solver to silence this warning.\n",
      "  FutureWarning)\n"
     ]
    }
   ],
   "source": [
    "# inizialize the model (using the default parameters)\n",
    "logistic = LogisticRegression(max_iter = 4000) # It doesn't converge for lower values\n",
    "\n",
    "# fit the model with data\n",
    "logistic.fit(X_train_best,y_train)\n",
    "\n",
    "# Predicting the target values for X_test\n",
    "y_pred = logistic.predict(X_test_best)"
   ]
  },
  {
   "cell_type": "markdown",
   "metadata": {},
   "source": [
    "Defining and plotting with heatmap the confusion matrix relative to logistic regression"
   ]
  },
  {
   "cell_type": "code",
   "execution_count": 38,
   "metadata": {},
   "outputs": [],
   "source": [
    "conf_matrix = metrics.confusion_matrix(y_test, y_pred)"
   ]
  },
  {
   "cell_type": "code",
   "execution_count": 39,
   "metadata": {},
   "outputs": [
    {
     "data": {
      "text/plain": [
       "<Figure size 576x576 with 0 Axes>"
      ]
     },
     "metadata": {},
     "output_type": "display_data"
    },
    {
     "data": {
      "image/png": "[encoded data removed]",
      "text/plain": [
       "<Figure size 432x288 with 2 Axes>"
      ]
     },
     "metadata": {
      "needs_background": "light"
     },
     "output_type": "display_data"
    }
   ],
   "source": [
    "heat_conf(conf_matrix)"
   ]
  },
  {
   "cell_type": "markdown",
   "metadata": {},
   "source": [
    "Let's see the Accuracy, Precision and Recall values:"
   ]
  },
  {
   "cell_type": "code",
   "execution_count": 40,
   "metadata": {},
   "outputs": [
    {
     "name": "stdout",
     "output_type": "stream",
     "text": [
      "Accuracy: 0.9192446939970083\n",
      "Precision: 0.4909090909090909\n",
      "Recall: 0.007250268528464017\n"
     ]
    }
   ],
   "source": [
    "print(\"Accuracy:\",metrics.accuracy_score(y_test, y_pred))\n",
    "print(\"Precision:\",metrics.precision_score(y_test, y_pred, pos_label = 1))\n",
    "print(\"Recall:\",metrics.recall_score(y_test, y_pred, pos_label = 1))"
   ]
  },
  {
   "cell_type": "markdown",
   "metadata": {},
   "source": [
    "Now we can plot the ROC, and calculate the AUC relative to logistic regression."
   ]
  },
  {
   "cell_type": "code",
   "execution_count": 41,
   "metadata": {},
   "outputs": [
    {
     "data": {
      "image/png": "[encoded data removed]",
      "text/plain": [
       "<Figure size 504x432 with 1 Axes>"
      ]
     },
     "metadata": {
      "needs_background": "light"
     },
     "output_type": "display_data"
    }
   ],
   "source": [
    "fig = plt.figure(figsize=(7,6))\n",
    "y_pred_proba = logistic.predict_proba(X_test_best)[::,1]\n",
    "fpr, tpr, _ = metrics.roc_curve(y_test,  y_pred_proba, pos_label = 1)\n",
    "auc = metrics.roc_auc_score(y_test, y_pred_proba)\n",
    "#plt.plot(fpr,tpr,label=\"data, auc=\"+str(auc))\n",
    "#plt.legend(loc=4)\n",
    "import matplotlib.pyplot as plt\n",
    "plt.title('Receiver Operating Characteristic')\n",
    "plt.plot(fpr, tpr, 'b', label = 'AUC = %0.2f' % auc)\n",
    "plt.legend(loc = 'lower right')\n",
    "plt.plot([0, 1], [0, 1],'r--')\n",
    "plt.xlim([0, 1])\n",
    "plt.ylim([0, 1])\n",
    "plt.ylabel('True Positive Rate')\n",
    "plt.xlabel('False Positive Rate')\n",
    "plt.show()\n",
    "plt.show()"
   ]
  },
  {
   "cell_type": "code",
   "execution_count": 42,
   "metadata": {},
   "outputs": [],
   "source": [
    "aucs['Logistic Regression'] = auc"
   ]
  },
  {
   "cell_type": "code",
   "execution_count": 43,
   "metadata": {},
   "outputs": [
    {
     "data": {
      "text/plain": [
       "0.7631563305425489"
      ]
     },
     "execution_count": 43,
     "metadata": {},
     "output_type": "execute_result"
    }
   ],
   "source": [
    "auc"
   ]
  },
  {
   "cell_type": "markdown",
   "metadata": {},
   "source": [
    "### Random Forest"
   ]
  },
  {
   "cell_type": "code",
   "execution_count": 44,
   "metadata": {},
   "outputs": [
    {
     "data": {
      "text/plain": [
       "RandomForestClassifier(bootstrap=True, class_weight=None, criterion='gini',\n",
       "                       max_depth=10, max_features='auto', max_leaf_nodes=None,\n",
       "                       min_impurity_decrease=0.0, min_impurity_split=None,\n",
       "                       min_samples_leaf=1, min_samples_split=2,\n",
       "                       min_weight_fraction_leaf=0.0, n_estimators=200,\n",
       "                       n_jobs=-1, oob_score=False, random_state=0, verbose=0,\n",
       "                       warm_start=False)"
      ]
     },
     "execution_count": 44,
     "metadata": {},
     "output_type": "execute_result"
    }
   ],
   "source": [
    "# Create a random forest classifier\n",
    "clf = RandomForestClassifier(n_estimators=200, random_state=0, n_jobs=-1, max_depth = 10)\n",
    "\n",
    "# Train the classifier\n",
    "clf.fit(X_train_sel, y_train)"
   ]
  },
  {
   "cell_type": "code",
   "execution_count": 46,
   "metadata": {},
   "outputs": [
    {
     "name": "stdout",
     "output_type": "stream",
     "text": [
      "('CREDIT_DIV_ANNUITY', 0.01159678956013281)\n",
      "('EXT_SOURCE_1', 0.02974172583900734)\n",
      "('EXT_SOURCE_2', 0.09835966170632286)\n",
      "('EXT_SOURCE_3', 0.08411000081527162)\n",
      "('DAYS_BIRTH', 0.01633814707108545)\n",
      "('CREDIT_MINUS_GOOD', 0.02018364590959535)\n",
      "('DAYS_EMPLOYED', 0.024373220441428103)\n",
      "('AMT_ANNUITY', 0.005446851259038108)\n",
      "('ins_PAYMENT_DIFF', 0.009693824019722928)\n",
      "('POS_CNT_INSTALMENT_FUTURE', 0.0071484773182009876)\n",
      "('ANNUITY_INCOME_PERCENT', 0.0081921954253868)\n",
      "('DAYS_ID_PUBLISH', 0.008013110438693644)\n",
      "('BUR_AMT_CREDIT_SUM_DEBT', 0.0016165165434385684)\n",
      "('app_CNT_PAYMENT', 0.006176734610371696)\n",
      "('app_AMT_ANNUITY', 0.005943885761654782)\n",
      "('POS_prev_pos_count', 0.00645861043142907)\n",
      "('AMT_CREDIT', 0.0023854767503309524)\n",
      "('AMT_GOODS_PRICE', 0.002317511129548847)\n",
      "('ins_DBD', 0.006717353980560119)\n",
      "('DAYS_LAST_PHONE_CHANGE', 0.008109198923297945)\n",
      "('DAYS_REGISTRATION', 0.006687673599570697)\n",
      "('app_AMT_DOWN_PAYMENT', 0.004428239222739186)\n",
      "('BUR_AMT_CREDIT_MAX_OVERDUE', 0.0011629698066792436)\n",
      "('BIRTH_DIV_EMPLOYED', 0.009417953511233033)\n",
      "('BUR_AMT_CREDIT_SUM', 0.0011171541194598053)\n",
      "('ins_CNT_DRAWINGS_ATM_CURRENT', 0.015731835078873595)\n",
      "('REGION_POPULATION_RELATIVE', 0.005547565401025184)\n",
      "('ins_AMT_PAYMENT', 0.005070078176126664)\n",
      "('ins_NUM_INSTALMENT_VERSION', 0.004078891494580986)\n",
      "('BUR_DAYS_CREDIT_ENDDATE', 0.008405944766683266)\n",
      "('BUR_Loan_FRQ', 0.011669569078821631)\n",
      "('BUR_DAYS_CREDIT', 0.0204581202323576)\n",
      "('app_NAME_CONTRACT_STATUS_Refused', 0.015369537483958447)\n",
      "('OWN_CAR_AGE', 0.00374691558560379)\n",
      "('ins_NUM_INSTALMENT_NUMBER', 0.005325051058595386)\n",
      "('ins_ins_count', 0.005744076082618364)\n",
      "('ins_PAYMENT_PERC', 0.01036058313966763)\n",
      "('INTEREST', 0.003144445787972152)\n",
      "('app_HOUR_APPR_PROCESS_START', 0.006241051454522624)\n",
      "('POS_SK_DPD_DEF', 0.00906438471389934)\n",
      "('app_SELLERPLACE_AREA', 0.0025120690843430443)\n",
      "('app_NAME_YIELD_GROUP_high', 0.005713218490255943)\n",
      "('POS_MONTHS_BALANCE', 0.0064844700047276835)\n",
      "('DAYREG_DIV_DAYPUB', 0.00690418939978193)\n",
      "('BUR_CREDIT_ACTIVE_Closed', 0.013537792859141229)\n",
      "('CODE_GENDER_F', 0.0046774623810156265)\n",
      "('BUR_PLoan_num', 0.005819790731758419)\n",
      "('app_DAYS_DECISION', 0.00823123299969632)\n",
      "('POS_NAME_CONTRACT_STATUS_Active', 0.0036547795068660764)\n",
      "('BUR_AMT_CREDIT_SUM_LIMIT', 0.0022789798145277664)\n",
      "('BUR_DAYS_ENDDATE_FACT', 0.007553096836613071)\n",
      "('app_DAYS_LAST_DUE', 0.002033002605622308)\n",
      "('app_NAME_YIELD_GROUP_low_action', 0.001295630372607515)\n",
      "('ins_DAYS_ENTRY_PAYMENT', 0.00901019022964753)\n",
      "('NAME_FAMILY_STATUS_Married', 0.000796771863280822)\n",
      "('ins_CNT_DRAWINGS_CURRENT', 0.011061679520348118)\n",
      "('NAME_EDUCATION_TYPE_Higher education', 0.0064932621729900455)\n",
      "('BUR_BB_RISK', 0.0029754656091175156)\n",
      "('BUR_CREDIT_TYPE_Mortgage', 0.00029011664400236005)\n",
      "('REGION_RATING_CLIENT_W_CITY', 0.004153287355426759)\n",
      "('INTEREST_RATE', 0.006453266158114249)\n",
      "('POS_NAME_CONTRACT_STATUS_Completed', 0.0034550281418599506)\n",
      "('app_RATE_DOWN_PAYMENT', 0.004088664960238374)\n",
      "('app_DAYS_FIRST_DUE', 0.0018022374271066972)\n",
      "('AMT_INCOME_TOTAL', 0.0022548222379317018)\n",
      "('INTEREST_SHARE', 0.006854953869362732)\n",
      "('app_PRODUCT_COMBINATION_Cash X-Sell: low', 0.0016378238959496134)\n",
      "('ins_AMT_INSTALMENT', 0.0053780688551899325)\n",
      "('app_NAME_YIELD_GROUP_low_normal', 0.0026643750576626)\n",
      "('ins_DAYS_INSTALMENT', 0.008076092334319412)\n",
      "('BUR_CREDIT_TYPE_Microloan', 0.007404457932768434)\n",
      "('BUR_DAYS_CREDIT_UPDATE', 0.013630373106836227)\n",
      "('app_DAYS_LAST_DUE_1ST_VERSION', 0.0015375314961140272)\n",
      "('CODE_GENDER_M', 0.004572982118985595)\n",
      "('HOUR_APPR_PROCESS_START', 0.004139604453868928)\n",
      "('INCOME_DIV_FAM', 0.004181139753160517)\n",
      "('POS_CNT_INSTALMENT', 0.00573576259980211)\n",
      "('app_PRODUCT_COMBINATION_POS industry with interest', 0.0009693170299467898)\n",
      "('app_DAYS_TERMINATION', 0.0020294417934541105)\n",
      "('app_NAME_TYPE_SUITE_Unaccompanied', 0.00215785899908867)\n",
      "('ins_AMT_CREDIT_LIMIT_ACTUAL', 0.0022575199652040616)\n",
      "('app_AMT_APPLICATION', 0.002797270999491569)\n",
      "('DEF_60_CNT_SOCIAL_CIRCLE', 0.0017110247710856188)\n",
      "('TOTALAREA_MODE', 0.003615947541545347)\n",
      "('ins_CNT_INSTALMENT_MATURE_CUM', 0.002271969945988418)\n",
      "('app_NAME_CLIENT_TYPE_New', 0.0033472827255207564)\n",
      "('YEARS_BEGINEXPLUATATION_MODE', 0.0034550829258002957)\n",
      "('app_AMT_CREDIT', 0.0031150370648326963)\n",
      "('BUR_AMT_ANNUITY', 0.0017435979275218475)\n",
      "('app_AMT_GOODS_PRICE', 0.0026222819991210465)\n",
      "('FLAG_OWN_CAR_N', 0.001014018616675794)\n",
      "('app_PRODUCT_COMBINATION_Cash X-Sell: high', 0.003227122006014719)\n",
      "('APARTMENTS_AVG', 0.0028708009233298195)\n",
      "('app_WEEKDAY_APPR_PROCESS_START_SATURDAY', 0.0018403776724503803)\n",
      "('BASEMENTAREA_AVG', 0.0023022479141971506)\n",
      "('app_NAME_PRODUCT_TYPE_x-sell', 0.0021944935706402495)\n",
      "('app_CHANNEL_TYPE_AP+ (Cash loan)', 0.0029004112137907003)\n",
      "('POS_SK_DPD', 0.005471974173715145)\n",
      "('app_WEEKDAY_APPR_PROCESS_START_SUNDAY', 0.0015433373205987267)\n",
      "('BUR_CREDIT_ACTIVE_Active', 0.0061491543337510715)\n",
      "('app_PRODUCT_COMBINATION_POS industry without interest', 0.00033173635363672213)\n",
      "('NAME_CONTRACT_TYPE_Cash loans', 0.0004382158156100304)\n",
      "('app_WEEKDAY_APPR_PROCESS_START_WEDNESDAY', 0.0022210644142499954)\n",
      "('app_WEEKDAY_APPR_PROCESS_START_FRIDAY', 0.0018069045693779777)\n",
      "('INCOME_CHILD', 0.0019820806621196475)\n",
      "('app_PRODUCT_COMBINATION_Cash Street: low', 0.0009215045558121436)\n",
      "('ins_AMT_DRAWINGS_ATM_CURRENT', 0.007845444390315249)\n",
      "('app_NAME_GOODS_CATEGORY_Photo / Cinema Equipment', 0.0009536756567876802)\n",
      "('app_NAME_PRODUCT_TYPE_XNA', 0.002357530594070692)\n",
      "('NAME_EDUCATION_TYPE_Secondary / secondary special', 0.004255049791663661)\n",
      "('app_PRODUCT_COMBINATION_Cash X-Sell: middle', 0.0014222723500433166)\n",
      "('YEARS_BEGINEXPLUATATION_AVG', 0.003289504414706639)\n",
      "('BUR_CREDIT_TYPE_Car loan', 0.0004844782930664659)\n",
      "('app_NAME_CLIENT_TYPE_Repeater', 0.0024284672637880813)\n",
      "('AMT_REQ_CREDIT_BUREAU_QRT', 0.0013006234041346434)\n",
      "('LANDAREA_AVG', 0.0020892236285754524)\n",
      "('FLAG_WORK_PHONE', 0.0007643318300336914)\n",
      "('app_WEEKDAY_APPR_PROCESS_START_MONDAY', 0.002105107452888214)\n",
      "('app_NAME_SELLER_INDUSTRY_Furniture', 0.0006522734322450413)\n",
      "('DEF_30_CNT_SOCIAL_CIRCLE', 0.00206276744289717)\n",
      "('app_NAME_PRODUCT_TYPE_walk-in', 0.006582321263393488)\n",
      "('app_CHANNEL_TYPE_Credit and cash offices', 0.0019650942982593596)\n",
      "('FLAG_DOCUMENT_3', 0.002552395876659837)\n",
      "('app_NAME_SELLER_INDUSTRY_Construction', 0.0006695565184867759)\n",
      "('LANDAREA_MODE', 0.0020730027132544516)\n",
      "('app_NAME_YIELD_GROUP_middle', 0.002042077633345188)\n",
      "('app_NAME_YIELD_GROUP_XNA', 0.003941322989469391)\n",
      "('YEARS_BEGINEXPLUATATION_MEDI', 0.0034494614013819342)\n",
      "('COMMONAREA_AVG', 0.002038417814591929)\n",
      "('APARTMENTS_MODE', 0.002702262736337662)\n",
      "('app_CHANNEL_TYPE_Stone', 0.0014886671212183064)\n",
      "('OCCUPATION_TYPE_Core staff', 0.00019605384290921203)\n",
      "('app_NAME_CLIENT_TYPE_Refreshed', 0.0012169272417488683)\n",
      "('YEARS_BUILD_MODE', 0.002336587445689446)\n",
      "('app_WEEKDAY_APPR_PROCESS_START_THURSDAY', 0.0020386746753090802)\n",
      "('app_NAME_CONTRACT_STATUS_Approved', 0.00727365892850444)\n",
      "('BUR_CREDIT_TYPE_Consumer credit', 0.00298065915282288)\n",
      "('ins_NAME_CONTRACT_STATUS_Sent proposal', 3.974735212595104e-05)\n",
      "('app_NAME_CONTRACT_STATUS_Canceled', 0.00203731211214479)\n",
      "('LIVINGAREA_MEDI', 0.0035172380719301856)\n",
      "('BUR_AMT_CREDIT_SUM_OVERDUE', 0.005003756003513524)\n",
      "('app_NAME_TYPE_SUITE_Family', 0.0017839886475981615)\n",
      "('NONLIVINGAREA_AVG', 0.0018403875746242498)\n",
      "('LIVINGAREA_MODE', 0.0036437112609666055)\n",
      "('app_NAME_GOODS_CATEGORY_Furniture', 0.0007092100615087589)\n",
      "('app_CHANNEL_TYPE_Channel of corporate sales', 0.0002786350089360192)\n",
      "('ins_AMT_RECEIVABLE_PRINCIPAL', 0.004545343019113185)\n",
      "('REG_CITY_NOT_LIVE_CITY', 0.0016527031944260425)\n",
      "('NONLIVINGAPARTMENTS_MODE', 0.0013775876103167986)\n",
      "('ins_SK_DPD', 0.0019594598875755705)\n",
      "('LIVINGAREA_AVG', 0.003516055320667183)\n",
      "('BUR_CREDIT_TYPE_Credit card', 0.0024332841516175947)\n",
      "('AMT_REQ_CREDIT_BUREAU_YEAR', 0.0018772781622918852)\n",
      "('ins_AMT_BALANCE', 0.005005972103549615)\n",
      "('ORGANIZATION_TYPE_Military', 7.527350252653286e-05)\n",
      "('LANDAREA_MEDI', 0.002206917608607292)\n",
      "('app_NAME_GOODS_CATEGORY_XNA', 0.0026110197201233104)\n",
      "('app_NFLAG_INSURED_ON_APPROVAL', 0.0015249830201932498)\n",
      "('app_NAME_PAYMENT_TYPE_Cash through the bank', 0.0028608057475794217)\n",
      "('app_PRODUCT_COMBINATION_Cash Street: high', 0.0027156220912797997)\n",
      "('app_CHANNEL_TYPE_Contact center', 0.0016403343305914947)\n",
      "('ORGANIZATION_TYPE_Construction', 0.0005475739785276959)\n",
      "('app_NAME_PAYMENT_TYPE_XNA', 0.0027739909775645827)\n",
      "('app_NAME_CASH_LOAN_PURPOSE_XNA', 0.0023733622819571316)\n",
      "('app_NAME_SELLER_INDUSTRY_XNA', 0.0022480145959923514)\n",
      "('app_CODE_REJECT_REASON_LIMIT', 0.003645962368493914)\n",
      "('POS_NAME_CONTRACT_STATUS_Signed', 0.0019706824462731)\n",
      "('NAME_EDUCATION_TYPE_Academic degree', 1.3992434303242967e-05)\n",
      "('LIVINGAPARTMENTS_MODE', 0.0023730597909097846)\n",
      "('ORGANIZATION_TYPE_Self-employed', 0.0006758119133964919)\n",
      "('NONLIVINGAREA_MODE', 0.001889954608379035)\n",
      "('app_CODE_REJECT_REASON_SCO', 0.001207734684754958)\n",
      "('app_NAME_SELLER_INDUSTRY_Connectivity', 0.0032156681481109056)\n",
      "('ins_AMT_DRAWINGS_POS_CURRENT', 0.002506764559503852)\n",
      "('BASEMENTAREA_MEDI', 0.0021691725926931676)\n",
      "('app_CODE_REJECT_REASON_HC', 0.006899647871551629)\n",
      "('FLOORSMAX_AVG', 0.0020679479008778876)\n",
      "('APARTMENTS_MEDI', 0.002431607850112641)\n",
      "('ins_SK_DPD_DEF', 0.0027673777648751594)\n",
      "('app_NAME_GOODS_CATEGORY_Mobile', 0.00240095797508368)\n",
      "('NAME_INCOME_TYPE_State servant', 0.0001516835740948016)\n",
      "('ENTRANCES_AVG', 0.001978347513895618)\n",
      "('app_WEEKDAY_APPR_PROCESS_START_TUESDAY', 0.0019980534966615167)\n",
      "('app_NAME_SELLER_INDUSTRY_Consumer electronics', 0.0018982480709843614)\n",
      "('app_NAME_GOODS_CATEGORY_Consumer Electronics', 0.0010468132606850677)\n",
      "('POS_NAME_CONTRACT_STATUS_Returned to the store', 0.0017263671027313039)\n",
      "('ORGANIZATION_TYPE_School', 0.00013135019445184126)\n",
      "('app_NAME_TYPE_SUITE_Children', 0.0006803764457126557)\n",
      "('app_CHANNEL_TYPE_Regional / Local', 0.001134482895022557)\n",
      "('app_PRODUCT_COMBINATION_POS mobile with interest', 0.002801255272628888)\n",
      "('app_NAME_PORTFOLIO_Cash', 0.002258296635737472)\n",
      "('app_NAME_PORTFOLIO_Cards', 0.002361546648030291)\n",
      "('app_CODE_REJECT_REASON_XAP', 0.007987297220514653)\n",
      "('YEARS_BUILD_AVG', 0.0021294628199157424)\n",
      "('ins_AMT_DRAWINGS_CURRENT', 0.004702571949503275)\n",
      "('OBS_60_CNT_SOCIAL_CIRCLE', 0.002344762126756296)\n",
      "('FLOORSMIN_AVG', 0.0015076810556176302)\n",
      "('COMMONAREA_MODE', 0.0018066486696069956)\n",
      "('app_NAME_CONTRACT_TYPE_Revolving loans', 0.002662838820843025)\n",
      "('NAME_INCOME_TYPE_Working', 0.003304397993313111)\n",
      "('ins_cc_count', 0.002205967118874415)\n",
      "('OBS_30_CNT_SOCIAL_CIRCLE', 0.002240020793532542)\n"
     ]
    }
   ],
   "source": [
    "# Print the name and gini importance of each feature\n",
    "for feature in zip(features_sel, clf.feature_importances_):\n",
    "    print(feature)"
   ]
  },
  {
   "cell_type": "code",
   "execution_count": 49,
   "metadata": {},
   "outputs": [
    {
     "data": {
      "text/plain": [
       "SelectFromModel(estimator=RandomForestClassifier(bootstrap=True,\n",
       "                                                 class_weight=None,\n",
       "                                                 criterion='gini', max_depth=10,\n",
       "                                                 max_features='auto',\n",
       "                                                 max_leaf_nodes=None,\n",
       "                                                 min_impurity_decrease=0.0,\n",
       "                                                 min_impurity_split=None,\n",
       "                                                 min_samples_leaf=1,\n",
       "                                                 min_samples_split=2,\n",
       "                                                 min_weight_fraction_leaf=0.0,\n",
       "                                                 n_estimators=200, n_jobs=-1,\n",
       "                                                 oob_score=False,\n",
       "                                                 random_state=0, verbose=0,\n",
       "                                                 warm_start=False),\n",
       "                max_features=None, norm_order=1, prefit=False, threshold=0.005)"
      ]
     },
     "execution_count": 49,
     "metadata": {},
     "output_type": "execute_result"
    }
   ],
   "source": [
    "# Create a selector object that will use the random forest classifier to identify\n",
    "# features that have an importance of more than \n",
    "sfm = SelectFromModel(clf, threshold=0.005)\n",
    "\n",
    "# Train the selector\n",
    "sfm.fit(X_train_sel, y_train)"
   ]
  },
  {
   "cell_type": "code",
   "execution_count": 51,
   "metadata": {},
   "outputs": [
    {
     "name": "stdout",
     "output_type": "stream",
     "text": [
      "CREDIT_DIV_ANNUITY\n",
      "EXT_SOURCE_1\n",
      "EXT_SOURCE_2\n",
      "EXT_SOURCE_3\n",
      "DAYS_BIRTH\n",
      "CREDIT_MINUS_GOOD\n",
      "DAYS_EMPLOYED\n",
      "AMT_ANNUITY\n",
      "ins_PAYMENT_DIFF\n",
      "POS_CNT_INSTALMENT_FUTURE\n",
      "ANNUITY_INCOME_PERCENT\n",
      "DAYS_ID_PUBLISH\n",
      "app_CNT_PAYMENT\n",
      "app_AMT_ANNUITY\n",
      "POS_prev_pos_count\n",
      "ins_DBD\n",
      "DAYS_LAST_PHONE_CHANGE\n",
      "DAYS_REGISTRATION\n",
      "BIRTH_DIV_EMPLOYED\n",
      "ins_CNT_DRAWINGS_ATM_CURRENT\n",
      "REGION_POPULATION_RELATIVE\n",
      "ins_AMT_PAYMENT\n",
      "BUR_DAYS_CREDIT_ENDDATE\n",
      "BUR_Loan_FRQ\n",
      "BUR_DAYS_CREDIT\n",
      "app_NAME_CONTRACT_STATUS_Refused\n",
      "ins_NUM_INSTALMENT_NUMBER\n",
      "ins_ins_count\n",
      "ins_PAYMENT_PERC\n",
      "app_HOUR_APPR_PROCESS_START\n",
      "POS_SK_DPD_DEF\n",
      "app_NAME_YIELD_GROUP_high\n",
      "POS_MONTHS_BALANCE\n",
      "DAYREG_DIV_DAYPUB\n",
      "BUR_CREDIT_ACTIVE_Closed\n",
      "BUR_PLoan_num\n",
      "app_DAYS_DECISION\n",
      "BUR_DAYS_ENDDATE_FACT\n",
      "ins_DAYS_ENTRY_PAYMENT\n",
      "ins_CNT_DRAWINGS_CURRENT\n",
      "NAME_EDUCATION_TYPE_Higher education\n",
      "INTEREST_RATE\n",
      "INTEREST_SHARE\n",
      "ins_AMT_INSTALMENT\n",
      "ins_DAYS_INSTALMENT\n",
      "BUR_CREDIT_TYPE_Microloan\n",
      "BUR_DAYS_CREDIT_UPDATE\n",
      "POS_CNT_INSTALMENT\n",
      "POS_SK_DPD\n",
      "BUR_CREDIT_ACTIVE_Active\n",
      "ins_AMT_DRAWINGS_ATM_CURRENT\n",
      "app_NAME_PRODUCT_TYPE_walk-in\n",
      "app_NAME_CONTRACT_STATUS_Approved\n",
      "BUR_AMT_CREDIT_SUM_OVERDUE\n",
      "ins_AMT_BALANCE\n",
      "app_CODE_REJECT_REASON_HC\n",
      "app_CODE_REJECT_REASON_XAP\n"
     ]
    }
   ],
   "source": [
    "# Print the names of the most important features\n",
    "for feature_list_index in sfm.get_support(indices=True):\n",
    "    print(features_sel[feature_list_index])"
   ]
  },
  {
   "cell_type": "code",
   "execution_count": 52,
   "metadata": {},
   "outputs": [],
   "source": [
    "# Transform the data to create a new dataset containing only the most important features\n",
    "X_important_train = sfm.transform(X_train_sel)\n",
    "X_important_test = sfm.transform(X_test_sel)"
   ]
  },
  {
   "cell_type": "code",
   "execution_count": 53,
   "metadata": {},
   "outputs": [
    {
     "data": {
      "text/plain": [
       "RandomForestClassifier(bootstrap=True, class_weight=None, criterion='gini',\n",
       "                       max_depth=None, max_features='auto', max_leaf_nodes=None,\n",
       "                       min_impurity_decrease=0.0, min_impurity_split=None,\n",
       "                       min_samples_leaf=1, min_samples_split=2,\n",
       "                       min_weight_fraction_leaf=0.0, n_estimators=200,\n",
       "                       n_jobs=-1, oob_score=False, random_state=0, verbose=0,\n",
       "                       warm_start=False)"
      ]
     },
     "execution_count": 53,
     "metadata": {},
     "output_type": "execute_result"
    }
   ],
   "source": [
    "# Create a new random forest classifier for the most important features\n",
    "clf_important = RandomForestClassifier(n_estimators=200, random_state=0, n_jobs=-1)\n",
    "\n",
    "# Train the new classifier on the new dataset containing the most important features\n",
    "clf_important.fit(X_important_train, y_train)"
   ]
  },
  {
   "cell_type": "code",
   "execution_count": 55,
   "metadata": {},
   "outputs": [
    {
     "name": "stdout",
     "output_type": "stream",
     "text": [
      "Accuracy: 0.9192663732737876\n",
      "Precision: 0.0\n",
      "Recall: 0.0\n"
     ]
    },
    {
     "name": "stderr",
     "output_type": "stream",
     "text": [
      "C:\\Users\\Notebook HP\\Anaconda3\\lib\\site-packages\\sklearn\\metrics\\classification.py:1437: UndefinedMetricWarning: Precision is ill-defined and being set to 0.0 due to no predicted samples.\n",
      "  'precision', 'predicted', average, warn_for)\n"
     ]
    }
   ],
   "source": [
    "# Apply The Full Featured Classifier To The Test Data\n",
    "y_pred = clf.predict(X_test_sel)\n",
    "\n",
    "# View The Accuracy, Precision and Recall Of our model with all features\n",
    "print(\"Accuracy:\",metrics.accuracy_score(y_test, y_pred))\n",
    "print(\"Precision:\",metrics.precision_score(y_test, y_pred, pos_label = 1))\n",
    "print(\"Recall:\",metrics.recall_score(y_test, y_pred, pos_label = 1))"
   ]
  },
  {
   "cell_type": "code",
   "execution_count": 59,
   "metadata": {},
   "outputs": [
    {
     "data": {
      "text/plain": [
       "<Figure size 576x576 with 0 Axes>"
      ]
     },
     "metadata": {},
     "output_type": "display_data"
    },
    {
     "data": {
      "image/png": "[encoded data removed]",
      "text/plain": [
       "<Figure size 432x288 with 2 Axes>"
      ]
     },
     "metadata": {
      "needs_background": "light"
     },
     "output_type": "display_data"
    }
   ],
   "source": [
    "conf_matrix = metrics.confusion_matrix(y_test, y_pred)\n",
    "heat_conf(conf_matrix)"
   ]
  },
  {
   "cell_type": "code",
   "execution_count": 65,
   "metadata": {},
   "outputs": [
    {
     "data": {
      "image/png": "[encoded data removed]",
      "text/plain": [
       "<Figure size 504x432 with 1 Axes>"
      ]
     },
     "metadata": {
      "needs_background": "light"
     },
     "output_type": "display_data"
    }
   ],
   "source": [
    "fig = plt.figure(figsize=(7,6))\n",
    "y_pred_proba = clf.predict_proba(X_test_sel)[::,1]\n",
    "fpr, tpr, _ = metrics.roc_curve(y_test,  y_pred_proba, pos_label = 1)\n",
    "auc = metrics.roc_auc_score(y_test, y_pred_proba)\n",
    "#plt.plot(fpr,tpr,label=\"data, auc=\"+str(auc))\n",
    "#plt.legend(loc=4)\n",
    "import matplotlib.pyplot as plt\n",
    "plt.title('Receiver Operating Characteristic')\n",
    "plt.plot(fpr, tpr, 'b', label = 'AUC = %0.2f' % auc)\n",
    "plt.legend(loc = 'lower right')\n",
    "plt.plot([0, 1], [0, 1],'r--')\n",
    "plt.xlim([0, 1])\n",
    "plt.ylim([0, 1])\n",
    "plt.ylabel('True Positive Rate')\n",
    "plt.xlabel('False Positive Rate')\n",
    "plt.show()\n",
    "plt.show()"
   ]
  },
  {
   "cell_type": "code",
   "execution_count": 68,
   "metadata": {},
   "outputs": [
    {
     "data": {
      "text/plain": [
       "0.7144069551753591"
      ]
     },
     "execution_count": 68,
     "metadata": {},
     "output_type": "execute_result"
    }
   ],
   "source": [
    "aucs['Random Forest'] = auc\n",
    "auc"
   ]
  },
  {
   "cell_type": "code",
   "execution_count": 56,
   "metadata": {},
   "outputs": [
    {
     "name": "stdout",
     "output_type": "stream",
     "text": [
      "Accuracy: 0.9099009257051185\n",
      "Precision: 0.27263157894736845\n",
      "Recall: 0.06954887218045112\n"
     ]
    }
   ],
   "source": [
    "# Apply The Full Featured Classifier To The Test Data\n",
    "y_important_pred = clf_important.predict(X_important_test)\n",
    "\n",
    "# View The Accuracy,Precision and Recall off our model with selected features\n",
    "print(\"Accuracy:\",metrics.accuracy_score(y_test, y_important_pred))\n",
    "print(\"Precision:\",metrics.precision_score(y_test, y_important_pred, pos_label = 1))\n",
    "print(\"Recall:\",metrics.recall_score(y_test, y_important_pred, pos_label = 1))"
   ]
  },
  {
   "cell_type": "code",
   "execution_count": 58,
   "metadata": {},
   "outputs": [
    {
     "data": {
      "text/plain": [
       "<Figure size 576x576 with 0 Axes>"
      ]
     },
     "metadata": {},
     "output_type": "display_data"
    },
    {
     "data": {
      "image/png": "[encoded data removed]",
      "text/plain": [
       "<Figure size 432x288 with 2 Axes>"
      ]
     },
     "metadata": {
      "needs_background": "light"
     },
     "output_type": "display_data"
    }
   ],
   "source": [
    "conf_matrix = metrics.confusion_matrix(y_test, y_important_pred)\n",
    "heat_conf(conf_matrix)"
   ]
  },
  {
   "cell_type": "code",
   "execution_count": 69,
   "metadata": {},
   "outputs": [
    {
     "data": {
      "image/png": "[encoded data removed]",
      "text/plain": [
       "<Figure size 504x432 with 1 Axes>"
      ]
     },
     "metadata": {
      "needs_background": "light"
     },
     "output_type": "display_data"
    }
   ],
   "source": [
    "fig = plt.figure(figsize=(7,6))\n",
    "y_pred_proba = clf_important.predict_proba(X_important_test)[::,1]\n",
    "fpr, tpr, _ = metrics.roc_curve(y_test,  y_pred_proba, pos_label = 1)\n",
    "auc = metrics.roc_auc_score(y_test, y_pred_proba)\n",
    "#plt.plot(fpr,tpr,label=\"data, auc=\"+str(auc))\n",
    "#plt.legend(loc=4)\n",
    "import matplotlib.pyplot as plt\n",
    "plt.title('Receiver Operating Characteristic')\n",
    "plt.plot(fpr, tpr, 'b', label = 'AUC = %0.2f' % auc)\n",
    "plt.legend(loc = 'lower right')\n",
    "plt.plot([0, 1], [0, 1],'r--')\n",
    "plt.xlim([0, 1])\n",
    "plt.ylim([0, 1])\n",
    "plt.ylabel('True Positive Rate')\n",
    "plt.xlabel('False Positive Rate')\n",
    "plt.show()\n",
    "plt.show()"
   ]
  },
  {
   "cell_type": "code",
   "execution_count": 70,
   "metadata": {},
   "outputs": [
    {
     "data": {
      "text/plain": [
       "0.7008113520127939"
      ]
     },
     "execution_count": 70,
     "metadata": {},
     "output_type": "execute_result"
    }
   ],
   "source": [
    "aucs['Random Forest selected'] = auc\n",
    "auc"
   ]
  },
  {
   "cell_type": "markdown",
   "metadata": {},
   "source": [
    "### Light gbm"
   ]
  },
  {
   "cell_type": "code",
   "execution_count": 72,
   "metadata": {},
   "outputs": [],
   "source": [
    "# Defining again the dataframes, without scaling\n",
    "X_train_sel = X_train[features_sel]\n",
    "X_val_sel = X_val[features_sel]\n",
    "X_test_sel = X_test[features_sel]"
   ]
  },
  {
   "cell_type": "markdown",
   "metadata": {},
   "source": [
    "Since the dataset is unbalanced, with over 90% of target values equal to 0, we need to add weight to give more importance to the target value 1 when is found. (We tried downsampling, but it didn't give better results)."
   ]
  },
  {
   "cell_type": "code",
   "execution_count": 73,
   "metadata": {},
   "outputs": [],
   "source": [
    "tar_weight = np.ones((len(X_train_sel),), dtype=int)\n",
    "for i in range(len(X_train_sel)):\n",
    "    if y_train[i]== 0:\n",
    "        tar_weight[i]=1\n",
    "    else:\n",
    "        tar_weight[i]=10"
   ]
  },
  {
   "cell_type": "code",
   "execution_count": 102,
   "metadata": {},
   "outputs": [],
   "source": [
    "# lgbm format\n",
    "train = lgb.Dataset(X_train_sel, label = y_train, weight= tar_weight )\n",
    "valid = lgb.Dataset(X_val_sel, label = y_val)"
   ]
  },
  {
   "cell_type": "markdown",
   "metadata": {},
   "source": [
    "Cross Validation to find the best max depth:"
   ]
  },
  {
   "cell_type": "code",
   "execution_count": 106,
   "metadata": {
    "scrolled": true
   },
   "outputs": [
    {
     "name": "stdout",
     "output_type": "stream",
     "text": [
      "Training until validation scores don't improve for 100 rounds\n",
      "[10]\tvalid_0's auc: 0.702735\n",
      "[20]\tvalid_0's auc: 0.710412\n",
      "[30]\tvalid_0's auc: 0.71951\n",
      "[40]\tvalid_0's auc: 0.727887\n",
      "[50]\tvalid_0's auc: 0.733787\n",
      "[60]\tvalid_0's auc: 0.738278\n",
      "[70]\tvalid_0's auc: 0.741711\n",
      "[80]\tvalid_0's auc: 0.74422\n",
      "[90]\tvalid_0's auc: 0.7471\n",
      "[100]\tvalid_0's auc: 0.74932\n",
      "[110]\tvalid_0's auc: 0.751555\n",
      "[120]\tvalid_0's auc: 0.753255\n",
      "[130]\tvalid_0's auc: 0.755201\n",
      "[140]\tvalid_0's auc: 0.756798\n",
      "[150]\tvalid_0's auc: 0.758295\n",
      "[160]\tvalid_0's auc: 0.759791\n",
      "[170]\tvalid_0's auc: 0.760693\n",
      "[180]\tvalid_0's auc: 0.761579\n",
      "[190]\tvalid_0's auc: 0.762433\n",
      "[200]\tvalid_0's auc: 0.763228\n",
      "[210]\tvalid_0's auc: 0.764104\n",
      "[220]\tvalid_0's auc: 0.764776\n",
      "[230]\tvalid_0's auc: 0.765399\n",
      "[240]\tvalid_0's auc: 0.766078\n",
      "[250]\tvalid_0's auc: 0.766616\n",
      "[260]\tvalid_0's auc: 0.76721\n",
      "[270]\tvalid_0's auc: 0.767679\n",
      "[280]\tvalid_0's auc: 0.768289\n",
      "[290]\tvalid_0's auc: 0.768657\n",
      "[300]\tvalid_0's auc: 0.769134\n",
      "[310]\tvalid_0's auc: 0.769601\n",
      "[320]\tvalid_0's auc: 0.770042\n",
      "[330]\tvalid_0's auc: 0.770363\n",
      "[340]\tvalid_0's auc: 0.770795\n",
      "[350]\tvalid_0's auc: 0.771155\n",
      "[360]\tvalid_0's auc: 0.771449\n",
      "[370]\tvalid_0's auc: 0.77172\n",
      "[380]\tvalid_0's auc: 0.771991\n",
      "[390]\tvalid_0's auc: 0.772311\n",
      "[400]\tvalid_0's auc: 0.772629\n",
      "[410]\tvalid_0's auc: 0.772901\n",
      "[420]\tvalid_0's auc: 0.773211\n",
      "[430]\tvalid_0's auc: 0.773441\n",
      "[440]\tvalid_0's auc: 0.773677\n",
      "[450]\tvalid_0's auc: 0.774111\n",
      "[460]\tvalid_0's auc: 0.774268\n",
      "[470]\tvalid_0's auc: 0.774576\n",
      "[480]\tvalid_0's auc: 0.774754\n",
      "[490]\tvalid_0's auc: 0.775082\n",
      "[500]\tvalid_0's auc: 0.775232\n",
      "[510]\tvalid_0's auc: 0.775448\n",
      "[520]\tvalid_0's auc: 0.775612\n",
      "[530]\tvalid_0's auc: 0.775748\n",
      "[540]\tvalid_0's auc: 0.775922\n",
      "[550]\tvalid_0's auc: 0.776067\n",
      "[560]\tvalid_0's auc: 0.776164\n",
      "[570]\tvalid_0's auc: 0.776389\n",
      "[580]\tvalid_0's auc: 0.776549\n",
      "[590]\tvalid_0's auc: 0.776686\n",
      "[600]\tvalid_0's auc: 0.776934\n",
      "[610]\tvalid_0's auc: 0.77705\n",
      "[620]\tvalid_0's auc: 0.777136\n",
      "[630]\tvalid_0's auc: 0.77727\n",
      "[640]\tvalid_0's auc: 0.777469\n",
      "[650]\tvalid_0's auc: 0.777574\n",
      "[660]\tvalid_0's auc: 0.777726\n",
      "[670]\tvalid_0's auc: 0.777884\n",
      "[680]\tvalid_0's auc: 0.777979\n",
      "[690]\tvalid_0's auc: 0.778098\n",
      "[700]\tvalid_0's auc: 0.778188\n",
      "[710]\tvalid_0's auc: 0.778434\n",
      "[720]\tvalid_0's auc: 0.778564\n",
      "[730]\tvalid_0's auc: 0.77863\n",
      "[740]\tvalid_0's auc: 0.778775\n",
      "[750]\tvalid_0's auc: 0.778905\n",
      "[760]\tvalid_0's auc: 0.779053\n",
      "[770]\tvalid_0's auc: 0.779189\n",
      "[780]\tvalid_0's auc: 0.779314\n",
      "[790]\tvalid_0's auc: 0.779455\n",
      "[800]\tvalid_0's auc: 0.779567\n",
      "[810]\tvalid_0's auc: 0.779778\n",
      "[820]\tvalid_0's auc: 0.779822\n",
      "[830]\tvalid_0's auc: 0.779884\n",
      "[840]\tvalid_0's auc: 0.779924\n",
      "[850]\tvalid_0's auc: 0.779981\n",
      "[860]\tvalid_0's auc: 0.780015\n",
      "[870]\tvalid_0's auc: 0.780012\n",
      "[880]\tvalid_0's auc: 0.780168\n",
      "[890]\tvalid_0's auc: 0.780274\n",
      "[900]\tvalid_0's auc: 0.780341\n",
      "[910]\tvalid_0's auc: 0.780449\n",
      "[920]\tvalid_0's auc: 0.780465\n",
      "[930]\tvalid_0's auc: 0.780545\n",
      "[940]\tvalid_0's auc: 0.780539\n",
      "[950]\tvalid_0's auc: 0.780568\n",
      "[960]\tvalid_0's auc: 0.780608\n",
      "[970]\tvalid_0's auc: 0.780679\n",
      "[980]\tvalid_0's auc: 0.780773\n",
      "[990]\tvalid_0's auc: 0.780907\n",
      "[1000]\tvalid_0's auc: 0.780995\n",
      "[1010]\tvalid_0's auc: 0.781029\n",
      "[1020]\tvalid_0's auc: 0.781149\n",
      "[1030]\tvalid_0's auc: 0.781285\n",
      "[1040]\tvalid_0's auc: 0.781383\n",
      "[1050]\tvalid_0's auc: 0.781506\n",
      "[1060]\tvalid_0's auc: 0.781579\n",
      "[1070]\tvalid_0's auc: 0.781596\n",
      "[1080]\tvalid_0's auc: 0.781659\n",
      "[1090]\tvalid_0's auc: 0.781662\n",
      "[1100]\tvalid_0's auc: 0.781681\n",
      "[1110]\tvalid_0's auc: 0.781691\n",
      "[1120]\tvalid_0's auc: 0.781739\n",
      "[1130]\tvalid_0's auc: 0.781843\n",
      "[1140]\tvalid_0's auc: 0.781873\n",
      "[1150]\tvalid_0's auc: 0.781832\n",
      "[1160]\tvalid_0's auc: 0.781844\n",
      "[1170]\tvalid_0's auc: 0.781884\n",
      "[1180]\tvalid_0's auc: 0.781912\n",
      "[1190]\tvalid_0's auc: 0.781923\n",
      "[1200]\tvalid_0's auc: 0.781956\n",
      "[1210]\tvalid_0's auc: 0.781972\n",
      "[1220]\tvalid_0's auc: 0.781982\n",
      "[1230]\tvalid_0's auc: 0.782021\n",
      "[1240]\tvalid_0's auc: 0.782067\n",
      "[1250]\tvalid_0's auc: 0.782118\n",
      "[1260]\tvalid_0's auc: 0.782141\n",
      "[1270]\tvalid_0's auc: 0.782165\n",
      "[1280]\tvalid_0's auc: 0.782197\n",
      "[1290]\tvalid_0's auc: 0.782227\n",
      "[1300]\tvalid_0's auc: 0.782315\n",
      "[1310]\tvalid_0's auc: 0.782353\n",
      "[1320]\tvalid_0's auc: 0.782449\n",
      "[1330]\tvalid_0's auc: 0.782455\n",
      "[1340]\tvalid_0's auc: 0.782515\n",
      "[1350]\tvalid_0's auc: 0.782572\n",
      "[1360]\tvalid_0's auc: 0.782596\n",
      "[1370]\tvalid_0's auc: 0.782608\n",
      "[1380]\tvalid_0's auc: 0.782662\n",
      "[1390]\tvalid_0's auc: 0.782736\n",
      "[1400]\tvalid_0's auc: 0.78278\n",
      "[1410]\tvalid_0's auc: 0.782806\n",
      "[1420]\tvalid_0's auc: 0.782837\n",
      "[1430]\tvalid_0's auc: 0.782798\n",
      "[1440]\tvalid_0's auc: 0.782868\n",
      "[1450]\tvalid_0's auc: 0.782902\n",
      "[1460]\tvalid_0's auc: 0.782913\n",
      "[1470]\tvalid_0's auc: 0.782921\n",
      "[1480]\tvalid_0's auc: 0.782924\n",
      "[1490]\tvalid_0's auc: 0.782942\n",
      "[1500]\tvalid_0's auc: 0.782976\n",
      "[1510]\tvalid_0's auc: 0.782978\n",
      "[1520]\tvalid_0's auc: 0.783018\n",
      "[1530]\tvalid_0's auc: 0.783027\n",
      "[1540]\tvalid_0's auc: 0.783018\n",
      "[1550]\tvalid_0's auc: 0.783046\n",
      "[1560]\tvalid_0's auc: 0.78313\n",
      "[1570]\tvalid_0's auc: 0.783202\n",
      "[1580]\tvalid_0's auc: 0.783195\n",
      "[1590]\tvalid_0's auc: 0.783244\n",
      "[1600]\tvalid_0's auc: 0.783267\n",
      "[1610]\tvalid_0's auc: 0.783277\n",
      "[1620]\tvalid_0's auc: 0.783283\n",
      "[1630]\tvalid_0's auc: 0.783332\n",
      "[1640]\tvalid_0's auc: 0.783331\n",
      "[1650]\tvalid_0's auc: 0.783384\n",
      "[1660]\tvalid_0's auc: 0.78342\n",
      "[1670]\tvalid_0's auc: 0.78343\n",
      "[1680]\tvalid_0's auc: 0.783457\n",
      "[1690]\tvalid_0's auc: 0.783503\n",
      "[1700]\tvalid_0's auc: 0.783508\n",
      "[1710]\tvalid_0's auc: 0.783536\n",
      "[1720]\tvalid_0's auc: 0.783553\n",
      "[1730]\tvalid_0's auc: 0.783604\n",
      "[1740]\tvalid_0's auc: 0.783622\n",
      "[1750]\tvalid_0's auc: 0.783598\n",
      "[1760]\tvalid_0's auc: 0.783655\n",
      "[1770]\tvalid_0's auc: 0.783683\n",
      "[1780]\tvalid_0's auc: 0.783681\n",
      "[1790]\tvalid_0's auc: 0.783669\n",
      "[1800]\tvalid_0's auc: 0.783647\n",
      "[1810]\tvalid_0's auc: 0.783652\n",
      "[1820]\tvalid_0's auc: 0.783654\n",
      "[1830]\tvalid_0's auc: 0.783671\n",
      "[1840]\tvalid_0's auc: 0.783663\n",
      "[1850]\tvalid_0's auc: 0.78367\n",
      "[1860]\tvalid_0's auc: 0.783676\n",
      "[1870]\tvalid_0's auc: 0.783669\n",
      "[1880]\tvalid_0's auc: 0.783675\n",
      "Early stopping, best iteration is:\n",
      "[1782]\tvalid_0's auc: 0.783703\n",
      "Training until validation scores don't improve for 100 rounds\n",
      "[10]\tvalid_0's auc: 0.713779\n",
      "[20]\tvalid_0's auc: 0.721032\n",
      "[30]\tvalid_0's auc: 0.730203\n",
      "[40]\tvalid_0's auc: 0.737713\n",
      "[50]\tvalid_0's auc: 0.742953\n",
      "[60]\tvalid_0's auc: 0.747301\n",
      "[70]\tvalid_0's auc: 0.750781\n",
      "[80]\tvalid_0's auc: 0.753823\n",
      "[90]\tvalid_0's auc: 0.756479\n",
      "[100]\tvalid_0's auc: 0.758801\n",
      "[110]\tvalid_0's auc: 0.760702\n",
      "[120]\tvalid_0's auc: 0.762291\n",
      "[130]\tvalid_0's auc: 0.763553\n",
      "[140]\tvalid_0's auc: 0.765105\n",
      "[150]\tvalid_0's auc: 0.766244\n",
      "[160]\tvalid_0's auc: 0.767446\n",
      "[170]\tvalid_0's auc: 0.768426\n",
      "[180]\tvalid_0's auc: 0.769139\n",
      "[190]\tvalid_0's auc: 0.769731\n",
      "[200]\tvalid_0's auc: 0.770384\n",
      "[210]\tvalid_0's auc: 0.771077\n",
      "[220]\tvalid_0's auc: 0.771779\n",
      "[230]\tvalid_0's auc: 0.772344\n",
      "[240]\tvalid_0's auc: 0.772892\n",
      "[250]\tvalid_0's auc: 0.773394\n",
      "[260]\tvalid_0's auc: 0.773943\n",
      "[270]\tvalid_0's auc: 0.774187\n",
      "[280]\tvalid_0's auc: 0.774584\n",
      "[290]\tvalid_0's auc: 0.775066\n",
      "[300]\tvalid_0's auc: 0.775352\n",
      "[310]\tvalid_0's auc: 0.775727\n",
      "[320]\tvalid_0's auc: 0.776031\n",
      "[330]\tvalid_0's auc: 0.776274\n",
      "[340]\tvalid_0's auc: 0.776722\n",
      "[350]\tvalid_0's auc: 0.776907\n",
      "[360]\tvalid_0's auc: 0.777199\n",
      "[370]\tvalid_0's auc: 0.777441\n",
      "[380]\tvalid_0's auc: 0.777719\n",
      "[390]\tvalid_0's auc: 0.777956\n",
      "[400]\tvalid_0's auc: 0.778148\n",
      "[410]\tvalid_0's auc: 0.778475\n",
      "[420]\tvalid_0's auc: 0.778666\n",
      "[430]\tvalid_0's auc: 0.77893\n",
      "[440]\tvalid_0's auc: 0.77916\n",
      "[450]\tvalid_0's auc: 0.779446\n",
      "[460]\tvalid_0's auc: 0.779551\n",
      "[470]\tvalid_0's auc: 0.779672\n",
      "[480]\tvalid_0's auc: 0.779885\n",
      "[490]\tvalid_0's auc: 0.780133\n",
      "[500]\tvalid_0's auc: 0.780252\n",
      "[510]\tvalid_0's auc: 0.780462\n",
      "[520]\tvalid_0's auc: 0.780636\n",
      "[530]\tvalid_0's auc: 0.780817\n",
      "[540]\tvalid_0's auc: 0.780989\n",
      "[550]\tvalid_0's auc: 0.781025\n",
      "[560]\tvalid_0's auc: 0.781142\n",
      "[570]\tvalid_0's auc: 0.781356\n",
      "[580]\tvalid_0's auc: 0.781404\n",
      "[590]\tvalid_0's auc: 0.78148\n",
      "[600]\tvalid_0's auc: 0.781588\n",
      "[610]\tvalid_0's auc: 0.781665\n",
      "[620]\tvalid_0's auc: 0.781766\n",
      "[630]\tvalid_0's auc: 0.781898\n",
      "[640]\tvalid_0's auc: 0.782097\n",
      "[650]\tvalid_0's auc: 0.7822\n",
      "[660]\tvalid_0's auc: 0.782267\n",
      "[670]\tvalid_0's auc: 0.782471\n",
      "[680]\tvalid_0's auc: 0.782495\n",
      "[690]\tvalid_0's auc: 0.782701\n",
      "[700]\tvalid_0's auc: 0.782782\n",
      "[710]\tvalid_0's auc: 0.782756\n",
      "[720]\tvalid_0's auc: 0.782896\n",
      "[730]\tvalid_0's auc: 0.78283\n",
      "[740]\tvalid_0's auc: 0.782864\n",
      "[750]\tvalid_0's auc: 0.782878\n",
      "[760]\tvalid_0's auc: 0.782945\n",
      "[770]\tvalid_0's auc: 0.783029\n",
      "[780]\tvalid_0's auc: 0.783043\n",
      "[790]\tvalid_0's auc: 0.783085\n",
      "[800]\tvalid_0's auc: 0.78312\n",
      "[810]\tvalid_0's auc: 0.783152\n",
      "[820]\tvalid_0's auc: 0.783233\n",
      "[830]\tvalid_0's auc: 0.783252\n",
      "[840]\tvalid_0's auc: 0.783233\n",
      "[850]\tvalid_0's auc: 0.783314\n",
      "[860]\tvalid_0's auc: 0.783217\n",
      "[870]\tvalid_0's auc: 0.783172\n",
      "[880]\tvalid_0's auc: 0.78317\n",
      "[890]\tvalid_0's auc: 0.783163\n",
      "[900]\tvalid_0's auc: 0.783215\n",
      "[910]\tvalid_0's auc: 0.783275\n",
      "[920]\tvalid_0's auc: 0.783278\n",
      "[930]\tvalid_0's auc: 0.783248\n",
      "[940]\tvalid_0's auc: 0.783242\n",
      "Early stopping, best iteration is:\n",
      "[849]\tvalid_0's auc: 0.783315\n",
      "Training until validation scores don't improve for 100 rounds\n",
      "[10]\tvalid_0's auc: 0.731249\n",
      "[20]\tvalid_0's auc: 0.738782\n",
      "[30]\tvalid_0's auc: 0.744702\n",
      "[40]\tvalid_0's auc: 0.751484\n",
      "[50]\tvalid_0's auc: 0.7561\n",
      "[60]\tvalid_0's auc: 0.760151\n",
      "[70]\tvalid_0's auc: 0.763206\n",
      "[80]\tvalid_0's auc: 0.765448\n",
      "[90]\tvalid_0's auc: 0.767182\n",
      "[100]\tvalid_0's auc: 0.768764\n",
      "[110]\tvalid_0's auc: 0.770068\n",
      "[120]\tvalid_0's auc: 0.771389\n",
      "[130]\tvalid_0's auc: 0.772248\n",
      "[140]\tvalid_0's auc: 0.773328\n",
      "[150]\tvalid_0's auc: 0.774247\n",
      "[160]\tvalid_0's auc: 0.774851\n",
      "[170]\tvalid_0's auc: 0.775483\n",
      "[180]\tvalid_0's auc: 0.776014\n",
      "[190]\tvalid_0's auc: 0.776567\n",
      "[200]\tvalid_0's auc: 0.776978\n",
      "[210]\tvalid_0's auc: 0.77746\n",
      "[220]\tvalid_0's auc: 0.778103\n",
      "[230]\tvalid_0's auc: 0.778562\n",
      "[240]\tvalid_0's auc: 0.779051\n",
      "[250]\tvalid_0's auc: 0.779454\n",
      "[260]\tvalid_0's auc: 0.779785\n",
      "[270]\tvalid_0's auc: 0.780073\n",
      "[280]\tvalid_0's auc: 0.780317\n",
      "[290]\tvalid_0's auc: 0.780565\n",
      "[300]\tvalid_0's auc: 0.781104\n",
      "[310]\tvalid_0's auc: 0.781273\n",
      "[320]\tvalid_0's auc: 0.781563\n",
      "[330]\tvalid_0's auc: 0.781724\n",
      "[340]\tvalid_0's auc: 0.781942\n",
      "[350]\tvalid_0's auc: 0.78197\n",
      "[360]\tvalid_0's auc: 0.782238\n",
      "[370]\tvalid_0's auc: 0.782595\n",
      "[380]\tvalid_0's auc: 0.782736\n",
      "[390]\tvalid_0's auc: 0.782798\n",
      "[400]\tvalid_0's auc: 0.782953\n",
      "[410]\tvalid_0's auc: 0.783056\n",
      "[420]\tvalid_0's auc: 0.783092\n",
      "[430]\tvalid_0's auc: 0.783127\n",
      "[440]\tvalid_0's auc: 0.783255\n",
      "[450]\tvalid_0's auc: 0.783451\n",
      "[460]\tvalid_0's auc: 0.783414\n",
      "[470]\tvalid_0's auc: 0.783478\n",
      "[480]\tvalid_0's auc: 0.783566\n",
      "[490]\tvalid_0's auc: 0.783795\n",
      "[500]\tvalid_0's auc: 0.783772\n",
      "[510]\tvalid_0's auc: 0.783812\n",
      "[520]\tvalid_0's auc: 0.783868\n",
      "[530]\tvalid_0's auc: 0.783968\n",
      "[540]\tvalid_0's auc: 0.784035\n",
      "[550]\tvalid_0's auc: 0.784144\n",
      "[560]\tvalid_0's auc: 0.784218\n",
      "[570]\tvalid_0's auc: 0.784265\n",
      "[580]\tvalid_0's auc: 0.784192\n",
      "[590]\tvalid_0's auc: 0.784286\n",
      "[600]\tvalid_0's auc: 0.78435\n",
      "[610]\tvalid_0's auc: 0.784336\n",
      "[620]\tvalid_0's auc: 0.784357\n",
      "[630]\tvalid_0's auc: 0.784456\n",
      "[640]\tvalid_0's auc: 0.784458\n",
      "[650]\tvalid_0's auc: 0.784416\n",
      "[660]\tvalid_0's auc: 0.784563\n",
      "[670]\tvalid_0's auc: 0.784787\n",
      "[680]\tvalid_0's auc: 0.784813\n",
      "[690]\tvalid_0's auc: 0.78482\n",
      "[700]\tvalid_0's auc: 0.784907\n",
      "[710]\tvalid_0's auc: 0.784891\n",
      "[720]\tvalid_0's auc: 0.784878\n",
      "[730]\tvalid_0's auc: 0.784857\n",
      "[740]\tvalid_0's auc: 0.784937\n",
      "[750]\tvalid_0's auc: 0.784996\n",
      "[760]\tvalid_0's auc: 0.785031\n",
      "[770]\tvalid_0's auc: 0.785024\n",
      "[780]\tvalid_0's auc: 0.785007\n",
      "[790]\tvalid_0's auc: 0.784965\n",
      "[800]\tvalid_0's auc: 0.784904\n",
      "[810]\tvalid_0's auc: 0.78497\n",
      "[820]\tvalid_0's auc: 0.784915\n",
      "[830]\tvalid_0's auc: 0.784838\n",
      "[840]\tvalid_0's auc: 0.784775\n",
      "[850]\tvalid_0's auc: 0.78482\n",
      "[860]\tvalid_0's auc: 0.784826\n",
      "[870]\tvalid_0's auc: 0.784747\n",
      "Early stopping, best iteration is:\n",
      "[774]\tvalid_0's auc: 0.785077\n",
      "Training until validation scores don't improve for 100 rounds\n",
      "[10]\tvalid_0's auc: 0.735966\n",
      "[20]\tvalid_0's auc: 0.74246\n",
      "[30]\tvalid_0's auc: 0.750006\n",
      "[40]\tvalid_0's auc: 0.756258\n",
      "[50]\tvalid_0's auc: 0.760322\n",
      "[60]\tvalid_0's auc: 0.763832\n",
      "[70]\tvalid_0's auc: 0.767117\n",
      "[80]\tvalid_0's auc: 0.769399\n",
      "[90]\tvalid_0's auc: 0.771224\n",
      "[100]\tvalid_0's auc: 0.772667\n",
      "[110]\tvalid_0's auc: 0.774\n",
      "[120]\tvalid_0's auc: 0.775198\n",
      "[130]\tvalid_0's auc: 0.776098\n",
      "[140]\tvalid_0's auc: 0.776875\n",
      "[150]\tvalid_0's auc: 0.777417\n",
      "[160]\tvalid_0's auc: 0.778018\n",
      "[170]\tvalid_0's auc: 0.778655\n",
      "[180]\tvalid_0's auc: 0.779038\n",
      "[190]\tvalid_0's auc: 0.779616\n",
      "[200]\tvalid_0's auc: 0.780073\n",
      "[210]\tvalid_0's auc: 0.780498\n",
      "[220]\tvalid_0's auc: 0.780849\n",
      "[230]\tvalid_0's auc: 0.781246\n",
      "[240]\tvalid_0's auc: 0.781657\n",
      "[250]\tvalid_0's auc: 0.781941\n",
      "[260]\tvalid_0's auc: 0.782164\n",
      "[270]\tvalid_0's auc: 0.782392\n",
      "[280]\tvalid_0's auc: 0.78244\n",
      "[290]\tvalid_0's auc: 0.782579\n",
      "[300]\tvalid_0's auc: 0.782744\n",
      "[310]\tvalid_0's auc: 0.783025\n",
      "[320]\tvalid_0's auc: 0.783223\n",
      "[330]\tvalid_0's auc: 0.783341\n",
      "[340]\tvalid_0's auc: 0.78341\n",
      "[350]\tvalid_0's auc: 0.783317\n",
      "[360]\tvalid_0's auc: 0.783453\n",
      "[370]\tvalid_0's auc: 0.783421\n",
      "[380]\tvalid_0's auc: 0.783489\n",
      "[390]\tvalid_0's auc: 0.783632\n",
      "[400]\tvalid_0's auc: 0.783835\n",
      "[410]\tvalid_0's auc: 0.783776\n",
      "[420]\tvalid_0's auc: 0.783706\n",
      "[430]\tvalid_0's auc: 0.783626\n",
      "[440]\tvalid_0's auc: 0.783623\n",
      "[450]\tvalid_0's auc: 0.783657\n",
      "[460]\tvalid_0's auc: 0.783655\n",
      "[470]\tvalid_0's auc: 0.783679\n",
      "[480]\tvalid_0's auc: 0.783744\n",
      "[490]\tvalid_0's auc: 0.783717\n",
      "[500]\tvalid_0's auc: 0.783748\n",
      "Early stopping, best iteration is:\n",
      "[401]\tvalid_0's auc: 0.783872\n",
      "The best max depth is  5\n"
     ]
    }
   ],
   "source": [
    "cross = []\n",
    "max_D = [2,3,5,10] # Possible values of max_depth parameter\n",
    "\n",
    "for i in max_D:\n",
    "    params = {'boosting_type': 'gbdt',\n",
    "          'max_depth' : i,\n",
    "          'objective': 'binary',\n",
    "          'nthread': 5,\n",
    "          'num_leaves': 32,\n",
    "          'learning_rate': 0.05,\n",
    "          'max_bin': 512,\n",
    "          'subsample_for_bin': 200,\n",
    "          'subsample': 0.7,\n",
    "          'subsample_freq': 1,\n",
    "          'colsample_bytree': 0.8,\n",
    "          'reg_alpha': 20,\n",
    "          'reg_lambda': 20,\n",
    "          'min_split_gain': 0.5,\n",
    "          'min_child_weight': 1,\n",
    "          'min_child_samples': 10,\n",
    "          'scale_pos_weight': 1,\n",
    "          'num_class' : 1,\n",
    "          'metric' : 'auc'\n",
    "          }\n",
    "    lgbm = lgb.train(params,\n",
    "                 train,\n",
    "                 2500,\n",
    "                 valid_sets=valid,\n",
    "                 early_stopping_rounds= 100,\n",
    "                 verbose_eval= 10\n",
    "                 )\n",
    "    y_prob = lgbm.predict(X_val_sel)\n",
    "    cross.append(roc_auc_score(y_val,y_prob))\n",
    "best = max_D[np.argmax(cross)]\n",
    "print('The best max depth is ', best )"
   ]
  },
  {
   "cell_type": "code",
   "execution_count": 107,
   "metadata": {
    "scrolled": true
   },
   "outputs": [
    {
     "name": "stdout",
     "output_type": "stream",
     "text": [
      "Training until validation scores don't improve for 100 rounds\n",
      "[10]\tvalid_0's auc: 0.731249\n",
      "[20]\tvalid_0's auc: 0.738782\n",
      "[30]\tvalid_0's auc: 0.744702\n",
      "[40]\tvalid_0's auc: 0.751484\n",
      "[50]\tvalid_0's auc: 0.7561\n",
      "[60]\tvalid_0's auc: 0.760151\n",
      "[70]\tvalid_0's auc: 0.763206\n",
      "[80]\tvalid_0's auc: 0.765448\n",
      "[90]\tvalid_0's auc: 0.767182\n",
      "[100]\tvalid_0's auc: 0.768764\n",
      "[110]\tvalid_0's auc: 0.770068\n",
      "[120]\tvalid_0's auc: 0.771389\n",
      "[130]\tvalid_0's auc: 0.772248\n",
      "[140]\tvalid_0's auc: 0.773328\n",
      "[150]\tvalid_0's auc: 0.774247\n",
      "[160]\tvalid_0's auc: 0.774851\n",
      "[170]\tvalid_0's auc: 0.775483\n",
      "[180]\tvalid_0's auc: 0.776014\n",
      "[190]\tvalid_0's auc: 0.776567\n",
      "[200]\tvalid_0's auc: 0.776978\n",
      "[210]\tvalid_0's auc: 0.77746\n",
      "[220]\tvalid_0's auc: 0.778103\n",
      "[230]\tvalid_0's auc: 0.778562\n",
      "[240]\tvalid_0's auc: 0.779051\n",
      "[250]\tvalid_0's auc: 0.779454\n",
      "[260]\tvalid_0's auc: 0.779785\n",
      "[270]\tvalid_0's auc: 0.780073\n",
      "[280]\tvalid_0's auc: 0.780317\n",
      "[290]\tvalid_0's auc: 0.780565\n",
      "[300]\tvalid_0's auc: 0.781104\n",
      "[310]\tvalid_0's auc: 0.781273\n",
      "[320]\tvalid_0's auc: 0.781563\n",
      "[330]\tvalid_0's auc: 0.781724\n",
      "[340]\tvalid_0's auc: 0.781942\n",
      "[350]\tvalid_0's auc: 0.78197\n",
      "[360]\tvalid_0's auc: 0.782238\n",
      "[370]\tvalid_0's auc: 0.782595\n",
      "[380]\tvalid_0's auc: 0.782736\n",
      "[390]\tvalid_0's auc: 0.782798\n",
      "[400]\tvalid_0's auc: 0.782953\n",
      "[410]\tvalid_0's auc: 0.783056\n",
      "[420]\tvalid_0's auc: 0.783092\n",
      "[430]\tvalid_0's auc: 0.783127\n",
      "[440]\tvalid_0's auc: 0.783255\n",
      "[450]\tvalid_0's auc: 0.783451\n",
      "[460]\tvalid_0's auc: 0.783414\n",
      "[470]\tvalid_0's auc: 0.783478\n",
      "[480]\tvalid_0's auc: 0.783566\n",
      "[490]\tvalid_0's auc: 0.783795\n",
      "[500]\tvalid_0's auc: 0.783772\n",
      "[510]\tvalid_0's auc: 0.783812\n",
      "[520]\tvalid_0's auc: 0.783868\n",
      "[530]\tvalid_0's auc: 0.783968\n",
      "[540]\tvalid_0's auc: 0.784035\n",
      "[550]\tvalid_0's auc: 0.784144\n",
      "[560]\tvalid_0's auc: 0.784218\n",
      "[570]\tvalid_0's auc: 0.784265\n",
      "[580]\tvalid_0's auc: 0.784192\n",
      "[590]\tvalid_0's auc: 0.784286\n",
      "[600]\tvalid_0's auc: 0.78435\n",
      "[610]\tvalid_0's auc: 0.784336\n",
      "[620]\tvalid_0's auc: 0.784357\n",
      "[630]\tvalid_0's auc: 0.784456\n",
      "[640]\tvalid_0's auc: 0.784458\n",
      "[650]\tvalid_0's auc: 0.784416\n",
      "[660]\tvalid_0's auc: 0.784563\n",
      "[670]\tvalid_0's auc: 0.784787\n",
      "[680]\tvalid_0's auc: 0.784813\n",
      "[690]\tvalid_0's auc: 0.78482\n",
      "[700]\tvalid_0's auc: 0.784907\n",
      "[710]\tvalid_0's auc: 0.784891\n",
      "[720]\tvalid_0's auc: 0.784878\n",
      "[730]\tvalid_0's auc: 0.784857\n",
      "[740]\tvalid_0's auc: 0.784937\n",
      "[750]\tvalid_0's auc: 0.784996\n",
      "[760]\tvalid_0's auc: 0.785031\n",
      "[770]\tvalid_0's auc: 0.785024\n",
      "[780]\tvalid_0's auc: 0.785007\n",
      "[790]\tvalid_0's auc: 0.784965\n",
      "[800]\tvalid_0's auc: 0.784904\n",
      "[810]\tvalid_0's auc: 0.78497\n",
      "[820]\tvalid_0's auc: 0.784915\n",
      "[830]\tvalid_0's auc: 0.784838\n",
      "[840]\tvalid_0's auc: 0.784775\n",
      "[850]\tvalid_0's auc: 0.78482\n",
      "[860]\tvalid_0's auc: 0.784826\n",
      "[870]\tvalid_0's auc: 0.784747\n",
      "Early stopping, best iteration is:\n",
      "[774]\tvalid_0's auc: 0.785077\n"
     ]
    }
   ],
   "source": [
    "params = {'boosting_type': 'gbdt',\n",
    "          'max_depth' : 5,\n",
    "          'objective': 'binary',\n",
    "          'nthread': 5,\n",
    "          'num_leaves': 32,\n",
    "          'learning_rate': 0.05,\n",
    "          'max_bin': 512,\n",
    "          'subsample_for_bin': 200,\n",
    "          'subsample': 0.7,\n",
    "          'subsample_freq': 1,\n",
    "          'colsample_bytree': 0.8,\n",
    "          'reg_alpha': 20,\n",
    "          'reg_lambda': 20,\n",
    "          'min_split_gain': 0.5,\n",
    "          'min_child_weight': 1,\n",
    "          'min_child_samples': 10,\n",
    "          'scale_pos_weight': 1,\n",
    "          'num_class' : 1,\n",
    "          'metric' : 'auc'\n",
    "          }\n",
    "lgbm = lgb.train(params,\n",
    "                 train,\n",
    "                 2500,\n",
    "                 valid_sets=valid,\n",
    "                 early_stopping_rounds= 100,\n",
    "                 verbose_eval= 10\n",
    "                 )"
   ]
  },
  {
   "cell_type": "code",
   "execution_count": 108,
   "metadata": {},
   "outputs": [],
   "source": [
    "y_pred_prob = lgbm.predict(X_test_sel)"
   ]
  },
  {
   "cell_type": "code",
   "execution_count": 109,
   "metadata": {},
   "outputs": [
    {
     "data": {
      "text/plain": [
       "array([0.29220388, 0.13558304, 0.19770325, ..., 0.82145618, 0.21915942,\n",
       "       0.32094528])"
      ]
     },
     "execution_count": 109,
     "metadata": {},
     "output_type": "execute_result"
    }
   ],
   "source": [
    "y_pred_prob # Probabilities relative to clients"
   ]
  },
  {
   "cell_type": "code",
   "execution_count": 110,
   "metadata": {},
   "outputs": [],
   "source": [
    "# Giving each predicted probability a target value\n",
    "y_pred = np.ones((len(X_test_sel),), dtype=int)\n",
    "for i in range(len(y_pred_prob)):\n",
    "    if y_pred_prob[i]<=0.5:\n",
    "        y_pred[i]=0\n",
    "    else:\n",
    "        y_pred[i]=1"
   ]
  },
  {
   "cell_type": "code",
   "execution_count": 111,
   "metadata": {},
   "outputs": [],
   "source": [
    "conf_matrix = metrics.confusion_matrix(y_test, y_pred)"
   ]
  },
  {
   "cell_type": "code",
   "execution_count": 112,
   "metadata": {},
   "outputs": [
    {
     "data": {
      "text/plain": [
       "<Figure size 576x576 with 0 Axes>"
      ]
     },
     "metadata": {},
     "output_type": "display_data"
    },
    {
     "data": {
      "image/png": "[encoded data removed]",
      "text/plain": [
       "<Figure size 432x288 with 2 Axes>"
      ]
     },
     "metadata": {
      "needs_background": "light"
     },
     "output_type": "display_data"
    }
   ],
   "source": [
    "heat_conf(conf_matrix)"
   ]
  },
  {
   "cell_type": "code",
   "execution_count": 113,
   "metadata": {},
   "outputs": [
    {
     "name": "stdout",
     "output_type": "stream",
     "text": [
      "Accuracy: 0.7853751598846662\n",
      "Precision: 0.21380908248378128\n",
      "Recall: 0.6194951664876477\n"
     ]
    }
   ],
   "source": [
    "print(\"Accuracy:\",metrics.accuracy_score(y_test, y_pred))\n",
    "print(\"Precision:\",metrics.precision_score(y_test, y_pred, pos_label = 1))\n",
    "print(\"Recall:\",metrics.recall_score(y_test, y_pred, pos_label = 1))"
   ]
  },
  {
   "cell_type": "code",
   "execution_count": 114,
   "metadata": {},
   "outputs": [
    {
     "data": {
      "image/png": "[encoded data removed]",
      "text/plain": [
       "<Figure size 504x432 with 1 Axes>"
      ]
     },
     "metadata": {
      "needs_background": "light"
     },
     "output_type": "display_data"
    }
   ],
   "source": [
    "fig = plt.figure(figsize=(7,6))\n",
    "y_pred_proba = lgbm.predict(X_test_sel)\n",
    "fpr, tpr, _ = metrics.roc_curve(y_test,  y_pred_proba, pos_label = 1)\n",
    "auc = metrics.roc_auc_score(y_test, y_pred_proba)\n",
    "plt.title('Receiver Operating Characteristic')\n",
    "plt.plot(fpr, tpr, 'b', label = 'AUC = %0.2f' % auc)\n",
    "plt.legend(loc = 'lower right')\n",
    "plt.plot([0, 1], [0, 1],'r--')\n",
    "plt.xlim([0, 1])\n",
    "plt.ylim([0, 1])\n",
    "plt.ylabel('True Positive Rate')\n",
    "plt.xlabel('False Positive Rate')\n",
    "plt.show()\n",
    "plt.show()"
   ]
  },
  {
   "cell_type": "code",
   "execution_count": 115,
   "metadata": {},
   "outputs": [
    {
     "data": {
      "text/plain": [
       "0.7865643398202097"
      ]
     },
     "execution_count": 115,
     "metadata": {},
     "output_type": "execute_result"
    }
   ],
   "source": [
    "aucs['Light GBM'] = auc\n",
    "auc"
   ]
  },
  {
   "cell_type": "code",
   "execution_count": 99,
   "metadata": {},
   "outputs": [
    {
     "data": {
      "text/plain": [
       "'Light GBM'"
      ]
     },
     "execution_count": 99,
     "metadata": {},
     "output_type": "execute_result"
    }
   ],
   "source": [
    "best_method = max(aucs.items(), key=operator.itemgetter(1))[0]\n",
    "best_method"
   ]
  },
  {
   "cell_type": "code",
   "execution_count": null,
   "metadata": {},
   "outputs": [],
   "source": []
  }
 ],
 "metadata": {
  "kernelspec": {
   "display_name": "Python 3",
   "language": "python",
   "name": "python3"
  },
  "language_info": {
   "codemirror_mode": {
    "name": "ipython",
    "version": 3
   },
   "file_extension": ".py",
   "mimetype": "text/x-python",
   "name": "python",
   "nbconvert_exporter": "python",
   "pygments_lexer": "ipython3",
   "version": "3.7.4"
  }
 },
 "nbformat": 4,
 "nbformat_minor": 2
}
